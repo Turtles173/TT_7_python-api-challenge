{
 "cells": [
  {
   "cell_type": "markdown",
   "metadata": {},
   "source": [
    "# VacationPy\n",
    "----\n",
    "\n",
    "#### Note\n",
    "* Instructions have been included for each segment. You do not have to follow them exactly, but they are included to help you think through the steps."
   ]
  },
  {
   "cell_type": "code",
   "execution_count": 49,
   "metadata": {},
   "outputs": [],
   "source": [
    "# Dependencies and Setup\n",
    "import matplotlib.pyplot as plt\n",
    "import pandas as pd\n",
    "import numpy as np\n",
    "import requests\n",
    "import gmaps\n",
    "import os\n",
    "import json\n",
    "\n",
    "# Import API key\n",
    "from api_keys import g_key"
   ]
  },
  {
   "cell_type": "markdown",
   "metadata": {},
   "source": [
    "### Store Part I results into DataFrame\n",
    "* Load the csv exported in Part I to a DataFrame"
   ]
  },
  {
   "cell_type": "code",
   "execution_count": 2,
   "metadata": {},
   "outputs": [],
   "source": [
    "# Load in the csv data files\n",
    "weather_df_path = \"data/weatherdata.csv\"\n",
    "\n",
    "# Read the weather data \n",
    "weather_df = pd.read_csv(weather_df_path)"
   ]
  },
  {
   "cell_type": "code",
   "execution_count": 3,
   "metadata": {},
   "outputs": [
    {
     "data": {
      "text/html": [
       "<div>\n",
       "<style scoped>\n",
       "    .dataframe tbody tr th:only-of-type {\n",
       "        vertical-align: middle;\n",
       "    }\n",
       "\n",
       "    .dataframe tbody tr th {\n",
       "        vertical-align: top;\n",
       "    }\n",
       "\n",
       "    .dataframe thead th {\n",
       "        text-align: right;\n",
       "    }\n",
       "</style>\n",
       "<table border=\"1\" class=\"dataframe\">\n",
       "  <thead>\n",
       "    <tr style=\"text-align: right;\">\n",
       "      <th></th>\n",
       "      <th>City_name</th>\n",
       "      <th>lat</th>\n",
       "      <th>long</th>\n",
       "      <th>max_temp</th>\n",
       "      <th>humidity</th>\n",
       "      <th>cloud</th>\n",
       "      <th>wind_speed</th>\n",
       "      <th>country</th>\n",
       "    </tr>\n",
       "  </thead>\n",
       "  <tbody>\n",
       "    <tr>\n",
       "      <th>0</th>\n",
       "      <td>bara</td>\n",
       "      <td>10.37</td>\n",
       "      <td>10.73</td>\n",
       "      <td>26.61</td>\n",
       "      <td>70</td>\n",
       "      <td>14</td>\n",
       "      <td>4.76</td>\n",
       "      <td>NG</td>\n",
       "    </tr>\n",
       "    <tr>\n",
       "      <th>1</th>\n",
       "      <td>boa vista</td>\n",
       "      <td>2.82</td>\n",
       "      <td>-60.67</td>\n",
       "      <td>29.00</td>\n",
       "      <td>66</td>\n",
       "      <td>20</td>\n",
       "      <td>2.10</td>\n",
       "      <td>BR</td>\n",
       "    </tr>\n",
       "    <tr>\n",
       "      <th>2</th>\n",
       "      <td>albany</td>\n",
       "      <td>42.60</td>\n",
       "      <td>-73.97</td>\n",
       "      <td>26.11</td>\n",
       "      <td>65</td>\n",
       "      <td>78</td>\n",
       "      <td>2.24</td>\n",
       "      <td>US</td>\n",
       "    </tr>\n",
       "    <tr>\n",
       "      <th>3</th>\n",
       "      <td>hobart</td>\n",
       "      <td>-42.88</td>\n",
       "      <td>147.33</td>\n",
       "      <td>8.33</td>\n",
       "      <td>65</td>\n",
       "      <td>75</td>\n",
       "      <td>6.70</td>\n",
       "      <td>AU</td>\n",
       "    </tr>\n",
       "    <tr>\n",
       "      <th>4</th>\n",
       "      <td>rikitea</td>\n",
       "      <td>-23.12</td>\n",
       "      <td>-134.97</td>\n",
       "      <td>21.42</td>\n",
       "      <td>70</td>\n",
       "      <td>0</td>\n",
       "      <td>9.43</td>\n",
       "      <td>PF</td>\n",
       "    </tr>\n",
       "  </tbody>\n",
       "</table>\n",
       "</div>"
      ],
      "text/plain": [
       "   City_name    lat    long  max_temp  humidity  cloud  wind_speed country\n",
       "0       bara  10.37   10.73     26.61        70     14        4.76      NG\n",
       "1  boa vista   2.82  -60.67     29.00        66     20        2.10      BR\n",
       "2     albany  42.60  -73.97     26.11        65     78        2.24      US\n",
       "3     hobart -42.88  147.33      8.33        65     75        6.70      AU\n",
       "4    rikitea -23.12 -134.97     21.42        70      0        9.43      PF"
      ]
     },
     "execution_count": 3,
     "metadata": {},
     "output_type": "execute_result"
    }
   ],
   "source": [
    "weather_df.head(5)"
   ]
  },
  {
   "cell_type": "code",
   "execution_count": 4,
   "metadata": {},
   "outputs": [
    {
     "data": {
      "text/plain": [
       "City_name      object\n",
       "lat           float64\n",
       "long          float64\n",
       "max_temp      float64\n",
       "humidity        int64\n",
       "cloud           int64\n",
       "wind_speed    float64\n",
       "country        object\n",
       "dtype: object"
      ]
     },
     "execution_count": 4,
     "metadata": {},
     "output_type": "execute_result"
    }
   ],
   "source": [
    "weather_df.dtypes"
   ]
  },
  {
   "cell_type": "markdown",
   "metadata": {},
   "source": [
    "### Humidity Heatmap\n",
    "* Configure gmaps.\n",
    "* Use the Lat and Lng as locations and Humidity as the weight.\n",
    "* Add Heatmap layer to map."
   ]
  },
  {
   "cell_type": "code",
   "execution_count": 57,
   "metadata": {},
   "outputs": [],
   "source": [
    "#Configure gmaps\n",
    "gmaps.configure(api_key=g_key)"
   ]
  },
  {
   "cell_type": "code",
   "execution_count": 58,
   "metadata": {},
   "outputs": [],
   "source": [
    "#Set the city latitudes and longitudes\n",
    "city_locations = weather_df[[\"lat\", \"long\"]]"
   ]
  },
  {
   "cell_type": "code",
   "execution_count": 59,
   "metadata": {},
   "outputs": [],
   "source": [
    "#Add the humidity \"weight\"\n",
    "city_humidity = weather_df[\"humidity\"]"
   ]
  },
  {
   "cell_type": "code",
   "execution_count": 60,
   "metadata": {},
   "outputs": [
    {
     "data": {
      "application/vnd.jupyter.widget-view+json": {
       "model_id": "b753f5940a3b4418a91087e77bfffe3f",
       "version_major": 2,
       "version_minor": 0
      },
      "text/plain": [
       "Figure(layout=FigureLayout(height='420px'))"
      ]
     },
     "metadata": {},
     "output_type": "display_data"
    }
   ],
   "source": [
    "#Create a Google heatmap\n",
    "city_fig = gmaps.figure()\n",
    "\n",
    "#Create a heat layer to the heatmap\n",
    "heat_layer = gmaps.heatmap_layer(city_locations, weights=city_humidity, \n",
    "                                 dissipating=False, max_intensity=100,\n",
    "                                 point_radius = 1)\n",
    "\n",
    "city_fig.add_layer(heat_layer)\n",
    "\n",
    "city_fig"
   ]
  },
  {
   "cell_type": "markdown",
   "metadata": {},
   "source": [
    "### Create new DataFrame fitting weather criteria\n",
    "* Narrow down the cities to fit weather conditions.\n",
    "* Drop any rows will null values."
   ]
  },
  {
   "cell_type": "markdown",
   "metadata": {},
   "source": [
    "My ideal holiday would be:\n",
    "* Maximum of 32(C) but no cooler than 27(C)\n",
    "* Wind less than 5kph\n",
    "* Cloudiness at less than 15%\n",
    "* Humidity under 65%"
   ]
  },
  {
   "cell_type": "code",
   "execution_count": 9,
   "metadata": {},
   "outputs": [],
   "source": [
    "#Create a dataframe with cities with a temperature between 27 and 32 degree celsius\n",
    "holiday_weather = weather_df.loc[(weather_df[\"max_temp\"] >= 27) & (weather_df[\"max_temp\"] <= 32)]"
   ]
  },
  {
   "cell_type": "code",
   "execution_count": 10,
   "metadata": {},
   "outputs": [],
   "source": [
    "#Filter the dataframe to exclude cities with wind less than 5kph\n",
    "holiday_weather  = holiday_weather.loc[holiday_weather[\"wind_speed\"] < 5]"
   ]
  },
  {
   "cell_type": "code",
   "execution_count": 11,
   "metadata": {},
   "outputs": [],
   "source": [
    "#Filter the dataframe to exclude cities with cloudiness under 10%\n",
    "holiday_weather  = holiday_weather.loc[holiday_weather[\"cloud\"] < 10]"
   ]
  },
  {
   "cell_type": "code",
   "execution_count": 12,
   "metadata": {},
   "outputs": [],
   "source": [
    "#Filter the dataframe to exclude cities with humidity under 65%\n",
    "holiday_weather  = holiday_weather.loc[holiday_weather[\"humidity\"] < 50]"
   ]
  },
  {
   "cell_type": "code",
   "execution_count": 13,
   "metadata": {},
   "outputs": [
    {
     "data": {
      "text/html": [
       "<div>\n",
       "<style scoped>\n",
       "    .dataframe tbody tr th:only-of-type {\n",
       "        vertical-align: middle;\n",
       "    }\n",
       "\n",
       "    .dataframe tbody tr th {\n",
       "        vertical-align: top;\n",
       "    }\n",
       "\n",
       "    .dataframe thead th {\n",
       "        text-align: right;\n",
       "    }\n",
       "</style>\n",
       "<table border=\"1\" class=\"dataframe\">\n",
       "  <thead>\n",
       "    <tr style=\"text-align: right;\">\n",
       "      <th></th>\n",
       "      <th>City_name</th>\n",
       "      <th>lat</th>\n",
       "      <th>long</th>\n",
       "      <th>max_temp</th>\n",
       "      <th>humidity</th>\n",
       "      <th>cloud</th>\n",
       "      <th>wind_speed</th>\n",
       "      <th>country</th>\n",
       "    </tr>\n",
       "  </thead>\n",
       "  <tbody>\n",
       "    <tr>\n",
       "      <th>47</th>\n",
       "      <td>laurel</td>\n",
       "      <td>39.10</td>\n",
       "      <td>-76.85</td>\n",
       "      <td>31.11</td>\n",
       "      <td>42</td>\n",
       "      <td>1</td>\n",
       "      <td>1.70</td>\n",
       "      <td>US</td>\n",
       "    </tr>\n",
       "    <tr>\n",
       "      <th>210</th>\n",
       "      <td>riyadh</td>\n",
       "      <td>24.69</td>\n",
       "      <td>46.72</td>\n",
       "      <td>32.00</td>\n",
       "      <td>29</td>\n",
       "      <td>0</td>\n",
       "      <td>3.10</td>\n",
       "      <td>SA</td>\n",
       "    </tr>\n",
       "    <tr>\n",
       "      <th>304</th>\n",
       "      <td>mecca</td>\n",
       "      <td>21.43</td>\n",
       "      <td>39.83</td>\n",
       "      <td>30.65</td>\n",
       "      <td>13</td>\n",
       "      <td>0</td>\n",
       "      <td>2.07</td>\n",
       "      <td>SA</td>\n",
       "    </tr>\n",
       "    <tr>\n",
       "      <th>405</th>\n",
       "      <td>cortez</td>\n",
       "      <td>37.35</td>\n",
       "      <td>-108.59</td>\n",
       "      <td>31.00</td>\n",
       "      <td>15</td>\n",
       "      <td>1</td>\n",
       "      <td>3.60</td>\n",
       "      <td>US</td>\n",
       "    </tr>\n",
       "    <tr>\n",
       "      <th>413</th>\n",
       "      <td>bud</td>\n",
       "      <td>39.45</td>\n",
       "      <td>-86.18</td>\n",
       "      <td>30.00</td>\n",
       "      <td>42</td>\n",
       "      <td>1</td>\n",
       "      <td>3.60</td>\n",
       "      <td>US</td>\n",
       "    </tr>\n",
       "    <tr>\n",
       "      <th>471</th>\n",
       "      <td>hit</td>\n",
       "      <td>33.64</td>\n",
       "      <td>42.83</td>\n",
       "      <td>29.85</td>\n",
       "      <td>18</td>\n",
       "      <td>0</td>\n",
       "      <td>2.72</td>\n",
       "      <td>IQ</td>\n",
       "    </tr>\n",
       "    <tr>\n",
       "      <th>515</th>\n",
       "      <td>saint paul</td>\n",
       "      <td>44.94</td>\n",
       "      <td>-93.09</td>\n",
       "      <td>31.67</td>\n",
       "      <td>48</td>\n",
       "      <td>1</td>\n",
       "      <td>3.60</td>\n",
       "      <td>US</td>\n",
       "    </tr>\n",
       "    <tr>\n",
       "      <th>555</th>\n",
       "      <td>weiser</td>\n",
       "      <td>44.25</td>\n",
       "      <td>-116.97</td>\n",
       "      <td>27.00</td>\n",
       "      <td>22</td>\n",
       "      <td>1</td>\n",
       "      <td>2.60</td>\n",
       "      <td>US</td>\n",
       "    </tr>\n",
       "    <tr>\n",
       "      <th>581</th>\n",
       "      <td>sioux lookout</td>\n",
       "      <td>50.10</td>\n",
       "      <td>-91.92</td>\n",
       "      <td>30.00</td>\n",
       "      <td>37</td>\n",
       "      <td>5</td>\n",
       "      <td>2.60</td>\n",
       "      <td>CA</td>\n",
       "    </tr>\n",
       "  </tbody>\n",
       "</table>\n",
       "</div>"
      ],
      "text/plain": [
       "         City_name    lat    long  max_temp  humidity  cloud  wind_speed  \\\n",
       "47          laurel  39.10  -76.85     31.11        42      1        1.70   \n",
       "210         riyadh  24.69   46.72     32.00        29      0        3.10   \n",
       "304          mecca  21.43   39.83     30.65        13      0        2.07   \n",
       "405         cortez  37.35 -108.59     31.00        15      1        3.60   \n",
       "413            bud  39.45  -86.18     30.00        42      1        3.60   \n",
       "471            hit  33.64   42.83     29.85        18      0        2.72   \n",
       "515     saint paul  44.94  -93.09     31.67        48      1        3.60   \n",
       "555         weiser  44.25 -116.97     27.00        22      1        2.60   \n",
       "581  sioux lookout  50.10  -91.92     30.00        37      5        2.60   \n",
       "\n",
       "    country  \n",
       "47       US  \n",
       "210      SA  \n",
       "304      SA  \n",
       "405      US  \n",
       "413      US  \n",
       "471      IQ  \n",
       "515      US  \n",
       "555      US  \n",
       "581      CA  "
      ]
     },
     "execution_count": 13,
     "metadata": {},
     "output_type": "execute_result"
    }
   ],
   "source": [
    "holiday_weather.head(15)"
   ]
  },
  {
   "cell_type": "markdown",
   "metadata": {},
   "source": [
    "### Hotel Map\n",
    "* Store into variable named `hotel_df`.\n",
    "* Add a \"Hotel Name\" column to the DataFrame.\n",
    "* Set parameters to search for hotels with 5000 meters.\n",
    "* Hit the Google Places API for each city's coordinates.\n",
    "* Store the first Hotel result into the DataFrame.\n",
    "* Plot markers on top of the heatmap."
   ]
  },
  {
   "cell_type": "code",
   "execution_count": 32,
   "metadata": {},
   "outputs": [],
   "source": [
    "#Create a copy of the hotel weather df for use below\n",
    "hotel_df = holiday_weather.copy()"
   ]
  },
  {
   "cell_type": "code",
   "execution_count": 33,
   "metadata": {},
   "outputs": [
    {
     "data": {
      "text/html": [
       "<div>\n",
       "<style scoped>\n",
       "    .dataframe tbody tr th:only-of-type {\n",
       "        vertical-align: middle;\n",
       "    }\n",
       "\n",
       "    .dataframe tbody tr th {\n",
       "        vertical-align: top;\n",
       "    }\n",
       "\n",
       "    .dataframe thead th {\n",
       "        text-align: right;\n",
       "    }\n",
       "</style>\n",
       "<table border=\"1\" class=\"dataframe\">\n",
       "  <thead>\n",
       "    <tr style=\"text-align: right;\">\n",
       "      <th></th>\n",
       "      <th>index</th>\n",
       "      <th>City_name</th>\n",
       "      <th>lat</th>\n",
       "      <th>long</th>\n",
       "      <th>max_temp</th>\n",
       "      <th>humidity</th>\n",
       "      <th>cloud</th>\n",
       "      <th>wind_speed</th>\n",
       "      <th>country</th>\n",
       "    </tr>\n",
       "  </thead>\n",
       "  <tbody>\n",
       "    <tr>\n",
       "      <th>0</th>\n",
       "      <td>47</td>\n",
       "      <td>laurel</td>\n",
       "      <td>39.10</td>\n",
       "      <td>-76.85</td>\n",
       "      <td>31.11</td>\n",
       "      <td>42</td>\n",
       "      <td>1</td>\n",
       "      <td>1.70</td>\n",
       "      <td>US</td>\n",
       "    </tr>\n",
       "    <tr>\n",
       "      <th>1</th>\n",
       "      <td>210</td>\n",
       "      <td>riyadh</td>\n",
       "      <td>24.69</td>\n",
       "      <td>46.72</td>\n",
       "      <td>32.00</td>\n",
       "      <td>29</td>\n",
       "      <td>0</td>\n",
       "      <td>3.10</td>\n",
       "      <td>SA</td>\n",
       "    </tr>\n",
       "    <tr>\n",
       "      <th>2</th>\n",
       "      <td>304</td>\n",
       "      <td>mecca</td>\n",
       "      <td>21.43</td>\n",
       "      <td>39.83</td>\n",
       "      <td>30.65</td>\n",
       "      <td>13</td>\n",
       "      <td>0</td>\n",
       "      <td>2.07</td>\n",
       "      <td>SA</td>\n",
       "    </tr>\n",
       "    <tr>\n",
       "      <th>3</th>\n",
       "      <td>405</td>\n",
       "      <td>cortez</td>\n",
       "      <td>37.35</td>\n",
       "      <td>-108.59</td>\n",
       "      <td>31.00</td>\n",
       "      <td>15</td>\n",
       "      <td>1</td>\n",
       "      <td>3.60</td>\n",
       "      <td>US</td>\n",
       "    </tr>\n",
       "    <tr>\n",
       "      <th>4</th>\n",
       "      <td>413</td>\n",
       "      <td>bud</td>\n",
       "      <td>39.45</td>\n",
       "      <td>-86.18</td>\n",
       "      <td>30.00</td>\n",
       "      <td>42</td>\n",
       "      <td>1</td>\n",
       "      <td>3.60</td>\n",
       "      <td>US</td>\n",
       "    </tr>\n",
       "    <tr>\n",
       "      <th>5</th>\n",
       "      <td>471</td>\n",
       "      <td>hit</td>\n",
       "      <td>33.64</td>\n",
       "      <td>42.83</td>\n",
       "      <td>29.85</td>\n",
       "      <td>18</td>\n",
       "      <td>0</td>\n",
       "      <td>2.72</td>\n",
       "      <td>IQ</td>\n",
       "    </tr>\n",
       "    <tr>\n",
       "      <th>6</th>\n",
       "      <td>515</td>\n",
       "      <td>saint paul</td>\n",
       "      <td>44.94</td>\n",
       "      <td>-93.09</td>\n",
       "      <td>31.67</td>\n",
       "      <td>48</td>\n",
       "      <td>1</td>\n",
       "      <td>3.60</td>\n",
       "      <td>US</td>\n",
       "    </tr>\n",
       "    <tr>\n",
       "      <th>7</th>\n",
       "      <td>555</td>\n",
       "      <td>weiser</td>\n",
       "      <td>44.25</td>\n",
       "      <td>-116.97</td>\n",
       "      <td>27.00</td>\n",
       "      <td>22</td>\n",
       "      <td>1</td>\n",
       "      <td>2.60</td>\n",
       "      <td>US</td>\n",
       "    </tr>\n",
       "    <tr>\n",
       "      <th>8</th>\n",
       "      <td>581</td>\n",
       "      <td>sioux lookout</td>\n",
       "      <td>50.10</td>\n",
       "      <td>-91.92</td>\n",
       "      <td>30.00</td>\n",
       "      <td>37</td>\n",
       "      <td>5</td>\n",
       "      <td>2.60</td>\n",
       "      <td>CA</td>\n",
       "    </tr>\n",
       "  </tbody>\n",
       "</table>\n",
       "</div>"
      ],
      "text/plain": [
       "   index      City_name    lat    long  max_temp  humidity  cloud  wind_speed  \\\n",
       "0     47         laurel  39.10  -76.85     31.11        42      1        1.70   \n",
       "1    210         riyadh  24.69   46.72     32.00        29      0        3.10   \n",
       "2    304          mecca  21.43   39.83     30.65        13      0        2.07   \n",
       "3    405         cortez  37.35 -108.59     31.00        15      1        3.60   \n",
       "4    413            bud  39.45  -86.18     30.00        42      1        3.60   \n",
       "5    471            hit  33.64   42.83     29.85        18      0        2.72   \n",
       "6    515     saint paul  44.94  -93.09     31.67        48      1        3.60   \n",
       "7    555         weiser  44.25 -116.97     27.00        22      1        2.60   \n",
       "8    581  sioux lookout  50.10  -91.92     30.00        37      5        2.60   \n",
       "\n",
       "  country  \n",
       "0      US  \n",
       "1      SA  \n",
       "2      SA  \n",
       "3      US  \n",
       "4      US  \n",
       "5      IQ  \n",
       "6      US  \n",
       "7      US  \n",
       "8      CA  "
      ]
     },
     "execution_count": 33,
     "metadata": {},
     "output_type": "execute_result"
    }
   ],
   "source": [
    "#Reindex the new DF\n",
    "hotel_df.reset_index()"
   ]
  },
  {
   "cell_type": "code",
   "execution_count": 51,
   "metadata": {},
   "outputs": [],
   "source": [
    "#Set the list to hold the response information\n",
    "hotel = []\n",
    "\n",
    "#Setup further parameters to put into the params dictionary below\n",
    "#https://developers.google.com/places/web-service/supported_types\n",
    "target_radius = 5000\n",
    "target_type = \"lodging\"\n",
    "\n",
    "#Loop through the city names to get the nearest hotel from the Google Maps API\n",
    "for index, row in hotel_df.iterrows():\n",
    "    \n",
    "    #Get the target latitude and longitudes for putting into the parameters below\n",
    "   # hotel_lat = hotel_df.loc[city][\"lat\"]\n",
    "   # hotel_long = hotel_df.loc[city][\"long\"]\n",
    "    target_coordinates = f\"{row['lat']},{row['long']}\"\n",
    "    \n",
    "    #Create the parameters dictionary\n",
    "    params = {\n",
    "        \"location\": target_coordinates,\n",
    "        \"radius\": target_radius,\n",
    "        \"type\": target_type,\n",
    "        \"key\": g_key\n",
    "    }\n",
    "    \n",
    "    #Set the base url\n",
    "    url_hotel = \"https://maps.googleapis.com/maps/api/place/nearbysearch/json\"\n",
    "    \n",
    "    # Create search query, make request and store in json\n",
    "    hotel_request = requests.get(url_hotel, params=params)\n",
    "    hotel_response = hotel_request.json()\n",
    "    \n",
    "    #Obtain the information as required / put in a message if unable to locate\n",
    "    try:\n",
    "        hotel.append(hotel_response[\"results\"][0][\"name\"])\n",
    "    except:\n",
    "        hotel.append(\"No hotel nearby\")\n"
   ]
  },
  {
   "cell_type": "code",
   "execution_count": 54,
   "metadata": {},
   "outputs": [
    {
     "name": "stdout",
     "output_type": "stream",
     "text": [
      "['Days Inn & Suites by Wyndham Laurel Near Fort Meade', 'InterContinental Riyadh', 'Hotel Fairmont Makkah Clock Royal Tower', 'Sand Canyon National 9 Inn', 'Madsion Scouts Camp', 'Aboody Alhachem', 'InterContinental Saint Paul Riverfront', 'The Colonial Motel', \"Knobby's Fly-In Camps\"]\n"
     ]
    }
   ],
   "source": [
    "print(hotel)"
   ]
  },
  {
   "cell_type": "code",
   "execution_count": 56,
   "metadata": {},
   "outputs": [
    {
     "data": {
      "text/html": [
       "<div>\n",
       "<style scoped>\n",
       "    .dataframe tbody tr th:only-of-type {\n",
       "        vertical-align: middle;\n",
       "    }\n",
       "\n",
       "    .dataframe tbody tr th {\n",
       "        vertical-align: top;\n",
       "    }\n",
       "\n",
       "    .dataframe thead th {\n",
       "        text-align: right;\n",
       "    }\n",
       "</style>\n",
       "<table border=\"1\" class=\"dataframe\">\n",
       "  <thead>\n",
       "    <tr style=\"text-align: right;\">\n",
       "      <th></th>\n",
       "      <th>City_name</th>\n",
       "      <th>lat</th>\n",
       "      <th>long</th>\n",
       "      <th>max_temp</th>\n",
       "      <th>humidity</th>\n",
       "      <th>cloud</th>\n",
       "      <th>wind_speed</th>\n",
       "      <th>country</th>\n",
       "      <th>Hotel</th>\n",
       "    </tr>\n",
       "  </thead>\n",
       "  <tbody>\n",
       "    <tr>\n",
       "      <th>47</th>\n",
       "      <td>laurel</td>\n",
       "      <td>39.10</td>\n",
       "      <td>-76.85</td>\n",
       "      <td>31.11</td>\n",
       "      <td>42</td>\n",
       "      <td>1</td>\n",
       "      <td>1.70</td>\n",
       "      <td>US</td>\n",
       "      <td>Days Inn &amp; Suites by Wyndham Laurel Near Fort ...</td>\n",
       "    </tr>\n",
       "    <tr>\n",
       "      <th>210</th>\n",
       "      <td>riyadh</td>\n",
       "      <td>24.69</td>\n",
       "      <td>46.72</td>\n",
       "      <td>32.00</td>\n",
       "      <td>29</td>\n",
       "      <td>0</td>\n",
       "      <td>3.10</td>\n",
       "      <td>SA</td>\n",
       "      <td>InterContinental Riyadh</td>\n",
       "    </tr>\n",
       "    <tr>\n",
       "      <th>304</th>\n",
       "      <td>mecca</td>\n",
       "      <td>21.43</td>\n",
       "      <td>39.83</td>\n",
       "      <td>30.65</td>\n",
       "      <td>13</td>\n",
       "      <td>0</td>\n",
       "      <td>2.07</td>\n",
       "      <td>SA</td>\n",
       "      <td>Hotel Fairmont Makkah Clock Royal Tower</td>\n",
       "    </tr>\n",
       "    <tr>\n",
       "      <th>405</th>\n",
       "      <td>cortez</td>\n",
       "      <td>37.35</td>\n",
       "      <td>-108.59</td>\n",
       "      <td>31.00</td>\n",
       "      <td>15</td>\n",
       "      <td>1</td>\n",
       "      <td>3.60</td>\n",
       "      <td>US</td>\n",
       "      <td>Sand Canyon National 9 Inn</td>\n",
       "    </tr>\n",
       "    <tr>\n",
       "      <th>413</th>\n",
       "      <td>bud</td>\n",
       "      <td>39.45</td>\n",
       "      <td>-86.18</td>\n",
       "      <td>30.00</td>\n",
       "      <td>42</td>\n",
       "      <td>1</td>\n",
       "      <td>3.60</td>\n",
       "      <td>US</td>\n",
       "      <td>Madsion Scouts Camp</td>\n",
       "    </tr>\n",
       "  </tbody>\n",
       "</table>\n",
       "</div>"
      ],
      "text/plain": [
       "    City_name    lat    long  max_temp  humidity  cloud  wind_speed country  \\\n",
       "47     laurel  39.10  -76.85     31.11        42      1        1.70      US   \n",
       "210    riyadh  24.69   46.72     32.00        29      0        3.10      SA   \n",
       "304     mecca  21.43   39.83     30.65        13      0        2.07      SA   \n",
       "405    cortez  37.35 -108.59     31.00        15      1        3.60      US   \n",
       "413       bud  39.45  -86.18     30.00        42      1        3.60      US   \n",
       "\n",
       "                                                 Hotel  \n",
       "47   Days Inn & Suites by Wyndham Laurel Near Fort ...  \n",
       "210                            InterContinental Riyadh  \n",
       "304            Hotel Fairmont Makkah Clock Royal Tower  \n",
       "405                         Sand Canyon National 9 Inn  \n",
       "413                                Madsion Scouts Camp  "
      ]
     },
     "execution_count": 56,
     "metadata": {},
     "output_type": "execute_result"
    }
   ],
   "source": [
    "hotel_df[\"Hotel\"] = hotel\n",
    "hotel_df.head()"
   ]
  },
  {
   "cell_type": "code",
   "execution_count": 66,
   "metadata": {},
   "outputs": [],
   "source": [
    "# NOTE: Do not change any of the code in this cell\n",
    "\n",
    "# Using the template add the hotel marks to the heatmap\n",
    "info_box_template = \"\"\"\n",
    "<dl>\n",
    "<dt>Name</dt><dd>{Hotel}</dd>\n",
    "<dt>City</dt><dd>{City_name}</dd>\n",
    "<dt>Country</dt><dd>{country}</dd>\n",
    "</dl>\n",
    "\"\"\"\n",
    "# Store the DataFrame Row\n",
    "# NOTE: be sure to update with your DataFrame name\n",
    "hotel_info = [info_box_template.format(**row) for index, row in hotel_df.iterrows()]\n",
    "locations = hotel_df[[\"lat\", \"long\"]]"
   ]
  },
  {
   "cell_type": "markdown",
   "metadata": {},
   "source": [
    "Add in the markers only"
   ]
  },
  {
   "cell_type": "code",
   "execution_count": 70,
   "metadata": {},
   "outputs": [
    {
     "data": {
      "application/vnd.jupyter.widget-view+json": {
       "model_id": "4850cc15af504510b56b5c346959f43a",
       "version_major": 2,
       "version_minor": 0
      },
      "text/plain": [
       "Figure(layout=FigureLayout(height='420px'))"
      ]
     },
     "metadata": {},
     "output_type": "display_data"
    }
   ],
   "source": [
    "# Add marker layer ontop of heat map\n",
    "#Create a heat layer to the heatmap \n",
    "fig = gmaps.figure()\n",
    "heat_layer2 = gmaps.heatmap_layer(city_locations, weights=city_humidity, \n",
    "                                 dissipating=False, max_intensity=100,\n",
    "                                 point_radius = 1)\n",
    "\n",
    "layers2 = gmaps.marker_layer(locations)\n",
    "\n",
    "fig.add_layer(heat_layer2)\n",
    "fig.add_layer(layers2)\n",
    "# Display figure\n",
    "fig"
   ]
  },
  {
   "cell_type": "markdown",
   "metadata": {},
   "source": [
    "Add in the hotel names on the markers"
   ]
  },
  {
   "cell_type": "code",
   "execution_count": 124,
   "metadata": {},
   "outputs": [
    {
     "data": {
      "text/plain": [
       "['Days Inn & Suites by Wyndham Laurel Near Fort Meade',\n",
       " 'InterContinental Riyadh',\n",
       " 'Hotel Fairmont Makkah Clock Royal Tower',\n",
       " 'Sand Canyon National 9 Inn',\n",
       " 'Madsion Scouts Camp',\n",
       " 'Aboody Alhachem',\n",
       " 'InterContinental Saint Paul Riverfront',\n",
       " 'The Colonial Motel',\n",
       " \"Knobby's Fly-In Camps\"]"
      ]
     },
     "execution_count": 124,
     "metadata": {},
     "output_type": "execute_result"
    }
   ],
   "source": [
    "# Convert columns to lists\n",
    "hotel_list = hotel_df[\"Hotel\"].tolist()\n",
    "hotel_list"
   ]
  },
  {
   "cell_type": "code",
   "execution_count": 125,
   "metadata": {},
   "outputs": [
    {
     "data": {
      "application/vnd.jupyter.widget-view+json": {
       "model_id": "1e243ece25bb4edf81441989fde07a25",
       "version_major": 2,
       "version_minor": 0
      },
      "text/plain": [
       "Figure(layout=FigureLayout(height='420px'))"
      ]
     },
     "metadata": {},
     "output_type": "display_data"
    }
   ],
   "source": [
    "# Add marker layer ontop of heat map\n",
    "#Create a heat layer to the heatmap \n",
    "fig = gmaps.figure()\n",
    "heat_layer2 = gmaps.heatmap_layer(city_locations, weights=city_humidity, \n",
    "                                 dissipating=False, max_intensity=100,\n",
    "                                 point_radius = 1)\n",
    "\n",
    "layers2 = gmaps.marker_layer(\n",
    "    locations,\n",
    "    info_box_content=([f\"Hotel: {Hotel}\" for Hotel in hotel_list])\n",
    ")\n",
    "\n",
    "fig.add_layer(heat_layer2)\n",
    "fig.add_layer(layers2)\n",
    "# Display figure\n",
    "fig"
   ]
  },
  {
   "cell_type": "code",
   "execution_count": null,
   "metadata": {},
   "outputs": [],
   "source": []
  }
 ],
 "metadata": {
  "kernelspec": {
   "display_name": "Python 3",
   "language": "python",
   "name": "python3"
  },
  "language_info": {
   "codemirror_mode": {
    "name": "ipython",
    "version": 3
   },
   "file_extension": ".py",
   "mimetype": "text/x-python",
   "name": "python",
   "nbconvert_exporter": "python",
   "pygments_lexer": "ipython3",
   "version": "3.7.6"
  },
  "latex_envs": {
   "LaTeX_envs_menu_present": true,
   "autoclose": false,
   "autocomplete": true,
   "bibliofile": "biblio.bib",
   "cite_by": "apalike",
   "current_citInitial": 1,
   "eqLabelWithNumbers": true,
   "eqNumInitial": 1,
   "hotkeys": {
    "equation": "Ctrl-E",
    "itemize": "Ctrl-I"
   },
   "labels_anchors": false,
   "latex_user_defs": false,
   "report_style_numbering": false,
   "user_envs_cfg": false
  }
 },
 "nbformat": 4,
 "nbformat_minor": 2
}
