{
 "cells": [
  {
   "cell_type": "markdown",
   "metadata": {},
   "source": [
    "# WeatherPy\n",
    "----\n",
    "\n",
    "Whether financial, political, or social -- data's true power lies in its ability to answer questions definitively. So let's take what you've learned about Python requests, APIs, and JSON traversals to answer a fundamental question: \"What's the weather like as we approach the equator?\"  Now, we know what you may be thinking: _\"Duh. It gets hotter...\"_  But, if pressed, how would you **prove** it?"
   ]
  },
  {
   "cell_type": "markdown",
   "metadata": {},
   "source": [
    "# Overall findings\n",
    "\n",
    "1. As expected, maximum temperatures for 2 July 2020 were skewed higher the closer to the equator you are.  Although, as the northern hemisphere is in summer, temperatures are hotter between the 20 - 40 degrees mark.\n",
    "\n",
    "2. Latitudes do not materially affect the wind speed or cloudiness, although there was a very slight trend of less wind and clouds the further away from the equator you are.\n",
    "\n",
    "3. Overall, there was not much correlation between humidity and the latitude except when you are close to the equator (-20 degrees to 20 degrees), you are unlikely to have dry conditions of humidity less than 50%.\n",
    "\n",
    "NOTE: As I am in Australia - metric has been used\n"
   ]
  },
  {
   "cell_type": "code",
   "execution_count": 1,
   "metadata": {
    "scrolled": true
   },
   "outputs": [],
   "source": [
    "# Dependencies and Setup\n",
    "import matplotlib.pyplot as plt\n",
    "import pandas as pd\n",
    "import numpy as np\n",
    "import requests\n",
    "import time\n",
    "from scipy.stats import linregress\n",
    "import json\n",
    "import scipy.stats as st\n",
    "from scipy import stats\n",
    "\n",
    "# Import API key\n",
    "from api_keys import weather_api_key\n",
    "\n",
    "# Incorporated citipy to determine city based on latitude and longitude\n",
    "from citipy import citipy\n",
    "\n",
    "# Output File (CSV)\n",
    "output_data_file = \"output_data/cities.csv\"\n",
    "\n",
    "# Range of latitudes and longitudes\n",
    "lat_range = (-90, 90)\n",
    "lng_range = (-180, 180)"
   ]
  },
  {
   "cell_type": "markdown",
   "metadata": {},
   "source": [
    "## Generate Cities List"
   ]
  },
  {
   "cell_type": "code",
   "execution_count": 2,
   "metadata": {},
   "outputs": [
    {
     "data": {
      "text/plain": [
       "690"
      ]
     },
     "execution_count": 2,
     "metadata": {},
     "output_type": "execute_result"
    }
   ],
   "source": [
    "# List for holding lat_lngs and cities\n",
    "lat_lngs = []\n",
    "cities = []\n",
    "\n",
    "# Create a set of random lat and lng combinations\n",
    "lats = np.random.uniform(lat_range[0], lat_range[1], size=1750)\n",
    "lngs = np.random.uniform(lng_range[0], lng_range[1], size=1750)\n",
    "lat_lngs = zip(lats, lngs)\n",
    "\n",
    "# Identify nearest city for each lat, lng combination\n",
    "for lat_lng in lat_lngs:\n",
    "    city = citipy.nearest_city(lat_lng[0], lat_lng[1]).city_name\n",
    "    \n",
    "    # If the city is unique, then add it to a our cities list\n",
    "    if city not in cities:\n",
    "        cities.append(city)\n",
    "\n",
    "# Print the city count to confirm sufficient count\n",
    "len(cities)"
   ]
  },
  {
   "cell_type": "markdown",
   "metadata": {},
   "source": [
    "### Perform API Calls\n",
    "* Perform a weather check on each city using a series of successive API calls.\n",
    "* Include a print log of each city as it'sbeing processed (with the city number and city name).\n"
   ]
  },
  {
   "cell_type": "code",
   "execution_count": 166,
   "metadata": {},
   "outputs": [],
   "source": [
    "#Set the units and base url\n",
    "units1 = \"metric\"\n",
    "\n",
    "url = f\"http://api.openweathermap.org/data/2.5/weather?units={units1}&APPID={weather_api_key}\"\n"
   ]
  },
  {
   "cell_type": "code",
   "execution_count": 165,
   "metadata": {},
   "outputs": [],
   "source": [
    "#print(url)"
   ]
  },
  {
   "cell_type": "code",
   "execution_count": 5,
   "metadata": {},
   "outputs": [],
   "source": [
    "# set up lists to hold reponse info\n",
    "city_list = []\n",
    "lat = []\n",
    "lon = []\n",
    "max_temp = []\n",
    "humidity = []\n",
    "cloud = []\n",
    "wind = []\n",
    "country = []\n",
    "date = []"
   ]
  },
  {
   "cell_type": "code",
   "execution_count": 6,
   "metadata": {},
   "outputs": [
    {
     "name": "stdout",
     "output_type": "stream",
     "text": [
      "Not here\n",
      "Not here\n",
      "Not here\n",
      "Not here\n",
      "Not here\n",
      "Not here\n",
      "Not here\n",
      "Not here\n",
      "Not here\n",
      "Not here\n",
      "Not here\n",
      "Not here\n",
      "Not here\n",
      "Not here\n",
      "Not here\n",
      "Not here\n",
      "Not here\n",
      "Not here\n",
      "Not here\n",
      "Not here\n",
      "Not here\n",
      "Not here\n",
      "Not here\n",
      "Not here\n",
      "Not here\n",
      "Not here\n",
      "Not here\n",
      "Not here\n",
      "Not here\n",
      "Not here\n",
      "Not here\n",
      "Not here\n",
      "Not here\n",
      "Not here\n",
      "Not here\n",
      "Not here\n",
      "Not here\n",
      "Not here\n",
      "Not here\n",
      "Not here\n",
      "Not here\n",
      "Not here\n",
      "Not here\n",
      "Not here\n",
      "Not here\n",
      "Not here\n",
      "Not here\n",
      "Not here\n",
      "Not here\n",
      "Not here\n",
      "Awesome job you have got the city weather data\n"
     ]
    }
   ],
   "source": [
    "# Loop through the list of cities and perform a request for data on each\n",
    "for city in cities: \n",
    "    \n",
    "    # Create search query, make request and store in json\n",
    "    weather_response = requests.get(url + \"&q=\" + city)\n",
    "    weather_json = weather_response.json()\n",
    "    weather_json\n",
    "    # Try to grab the information required if they are available in the OpenWeather API\n",
    "    try:\n",
    "        city_lat = weather_json['coord']['lat']\n",
    "        city_lon = weather_json['coord']['lon']\n",
    "        max_temp = weather_json['main']['temp_max']\n",
    "        humidity = weather_json['main']['humidity']\n",
    "        cloud = weather_json['clouds'][\"all\"]\n",
    "        wind = weather_json['wind'][\"speed\"]\n",
    "        country = weather_json['sys'][\"country\"]\n",
    "        date = weather_json['dt']\n",
    "        city_list.append({\"City_name\": city, \n",
    "                          \"lat\": city_lat, \n",
    "                          \"long\": city_lon,\n",
    "                          \"max_temp\": max_temp,\n",
    "                          \"humidity\": humidity,\n",
    "                          \"cloud\": cloud,\n",
    "                          \"wind_speed\": wind,\n",
    "                          \"country\": country  \n",
    "})\n",
    "    \n",
    "    # Handle exceptions for cities that do not have information\n",
    "    except:\n",
    "        print(\"Not here\")\n",
    "        pass\n",
    "#Know when the city data gathering has finished!\n",
    "print(\"Awesome job you have got the city weather data\")"
   ]
  },
  {
   "cell_type": "markdown",
   "metadata": {},
   "source": [
    "Note: I forgot to get the city to scroll through with the name etc - the \"Not here\" is for cities that didn't match the weather api.  And the final message told me that the information was gathered."
   ]
  },
  {
   "cell_type": "markdown",
   "metadata": {},
   "source": [
    "### Convert Raw Data to DataFrame\n",
    "* Export the city data into a .csv.\n",
    "* Display the DataFrame"
   ]
  },
  {
   "cell_type": "code",
   "execution_count": 7,
   "metadata": {},
   "outputs": [
    {
     "data": {
      "text/plain": [
       "640"
      ]
     },
     "execution_count": 7,
     "metadata": {},
     "output_type": "execute_result"
    }
   ],
   "source": [
    "#Convert data into a dataframe and discover the length\n",
    "weather_data = pd.DataFrame(city_list)\n",
    "len(weather_data)"
   ]
  },
  {
   "cell_type": "code",
   "execution_count": 8,
   "metadata": {},
   "outputs": [
    {
     "data": {
      "text/html": [
       "<div>\n",
       "<style scoped>\n",
       "    .dataframe tbody tr th:only-of-type {\n",
       "        vertical-align: middle;\n",
       "    }\n",
       "\n",
       "    .dataframe tbody tr th {\n",
       "        vertical-align: top;\n",
       "    }\n",
       "\n",
       "    .dataframe thead th {\n",
       "        text-align: right;\n",
       "    }\n",
       "</style>\n",
       "<table border=\"1\" class=\"dataframe\">\n",
       "  <thead>\n",
       "    <tr style=\"text-align: right;\">\n",
       "      <th></th>\n",
       "      <th>City_name</th>\n",
       "      <th>lat</th>\n",
       "      <th>long</th>\n",
       "      <th>max_temp</th>\n",
       "      <th>humidity</th>\n",
       "      <th>cloud</th>\n",
       "      <th>wind_speed</th>\n",
       "      <th>country</th>\n",
       "    </tr>\n",
       "  </thead>\n",
       "  <tbody>\n",
       "    <tr>\n",
       "      <th>0</th>\n",
       "      <td>bara</td>\n",
       "      <td>10.37</td>\n",
       "      <td>10.73</td>\n",
       "      <td>26.61</td>\n",
       "      <td>70</td>\n",
       "      <td>14</td>\n",
       "      <td>4.76</td>\n",
       "      <td>NG</td>\n",
       "    </tr>\n",
       "    <tr>\n",
       "      <th>1</th>\n",
       "      <td>boa vista</td>\n",
       "      <td>2.82</td>\n",
       "      <td>-60.67</td>\n",
       "      <td>29.00</td>\n",
       "      <td>66</td>\n",
       "      <td>20</td>\n",
       "      <td>2.10</td>\n",
       "      <td>BR</td>\n",
       "    </tr>\n",
       "    <tr>\n",
       "      <th>2</th>\n",
       "      <td>albany</td>\n",
       "      <td>42.60</td>\n",
       "      <td>-73.97</td>\n",
       "      <td>26.11</td>\n",
       "      <td>65</td>\n",
       "      <td>78</td>\n",
       "      <td>2.24</td>\n",
       "      <td>US</td>\n",
       "    </tr>\n",
       "    <tr>\n",
       "      <th>3</th>\n",
       "      <td>hobart</td>\n",
       "      <td>-42.88</td>\n",
       "      <td>147.33</td>\n",
       "      <td>8.33</td>\n",
       "      <td>65</td>\n",
       "      <td>75</td>\n",
       "      <td>6.70</td>\n",
       "      <td>AU</td>\n",
       "    </tr>\n",
       "    <tr>\n",
       "      <th>4</th>\n",
       "      <td>rikitea</td>\n",
       "      <td>-23.12</td>\n",
       "      <td>-134.97</td>\n",
       "      <td>21.42</td>\n",
       "      <td>70</td>\n",
       "      <td>0</td>\n",
       "      <td>9.43</td>\n",
       "      <td>PF</td>\n",
       "    </tr>\n",
       "    <tr>\n",
       "      <th>5</th>\n",
       "      <td>yumen</td>\n",
       "      <td>40.28</td>\n",
       "      <td>97.20</td>\n",
       "      <td>24.02</td>\n",
       "      <td>19</td>\n",
       "      <td>99</td>\n",
       "      <td>2.98</td>\n",
       "      <td>CN</td>\n",
       "    </tr>\n",
       "    <tr>\n",
       "      <th>6</th>\n",
       "      <td>tuatapere</td>\n",
       "      <td>-46.13</td>\n",
       "      <td>167.68</td>\n",
       "      <td>3.89</td>\n",
       "      <td>83</td>\n",
       "      <td>60</td>\n",
       "      <td>1.34</td>\n",
       "      <td>NZ</td>\n",
       "    </tr>\n",
       "    <tr>\n",
       "      <th>7</th>\n",
       "      <td>jamestown</td>\n",
       "      <td>42.10</td>\n",
       "      <td>-79.24</td>\n",
       "      <td>26.00</td>\n",
       "      <td>54</td>\n",
       "      <td>1</td>\n",
       "      <td>4.10</td>\n",
       "      <td>US</td>\n",
       "    </tr>\n",
       "    <tr>\n",
       "      <th>8</th>\n",
       "      <td>bundaberg</td>\n",
       "      <td>-24.85</td>\n",
       "      <td>152.35</td>\n",
       "      <td>19.00</td>\n",
       "      <td>82</td>\n",
       "      <td>1</td>\n",
       "      <td>3.10</td>\n",
       "      <td>AU</td>\n",
       "    </tr>\n",
       "    <tr>\n",
       "      <th>9</th>\n",
       "      <td>kangaatsiaq</td>\n",
       "      <td>68.31</td>\n",
       "      <td>-53.46</td>\n",
       "      <td>5.36</td>\n",
       "      <td>85</td>\n",
       "      <td>0</td>\n",
       "      <td>6.45</td>\n",
       "      <td>GL</td>\n",
       "    </tr>\n",
       "    <tr>\n",
       "      <th>10</th>\n",
       "      <td>xiaoweizhai</td>\n",
       "      <td>26.19</td>\n",
       "      <td>107.51</td>\n",
       "      <td>22.48</td>\n",
       "      <td>92</td>\n",
       "      <td>94</td>\n",
       "      <td>0.67</td>\n",
       "      <td>CN</td>\n",
       "    </tr>\n",
       "    <tr>\n",
       "      <th>11</th>\n",
       "      <td>kutum</td>\n",
       "      <td>14.20</td>\n",
       "      <td>24.67</td>\n",
       "      <td>25.00</td>\n",
       "      <td>57</td>\n",
       "      <td>96</td>\n",
       "      <td>6.01</td>\n",
       "      <td>SD</td>\n",
       "    </tr>\n",
       "    <tr>\n",
       "      <th>12</th>\n",
       "      <td>casper</td>\n",
       "      <td>42.87</td>\n",
       "      <td>-106.31</td>\n",
       "      <td>31.67</td>\n",
       "      <td>10</td>\n",
       "      <td>1</td>\n",
       "      <td>8.20</td>\n",
       "      <td>US</td>\n",
       "    </tr>\n",
       "    <tr>\n",
       "      <th>13</th>\n",
       "      <td>alice springs</td>\n",
       "      <td>-23.70</td>\n",
       "      <td>133.88</td>\n",
       "      <td>13.00</td>\n",
       "      <td>50</td>\n",
       "      <td>50</td>\n",
       "      <td>3.60</td>\n",
       "      <td>AU</td>\n",
       "    </tr>\n",
       "    <tr>\n",
       "      <th>14</th>\n",
       "      <td>saskylakh</td>\n",
       "      <td>71.92</td>\n",
       "      <td>114.08</td>\n",
       "      <td>13.06</td>\n",
       "      <td>59</td>\n",
       "      <td>54</td>\n",
       "      <td>5.93</td>\n",
       "      <td>RU</td>\n",
       "    </tr>\n",
       "    <tr>\n",
       "      <th>15</th>\n",
       "      <td>arraial do cabo</td>\n",
       "      <td>-22.97</td>\n",
       "      <td>-42.03</td>\n",
       "      <td>20.00</td>\n",
       "      <td>77</td>\n",
       "      <td>75</td>\n",
       "      <td>1.00</td>\n",
       "      <td>BR</td>\n",
       "    </tr>\n",
       "    <tr>\n",
       "      <th>16</th>\n",
       "      <td>victoria</td>\n",
       "      <td>22.29</td>\n",
       "      <td>114.16</td>\n",
       "      <td>30.56</td>\n",
       "      <td>79</td>\n",
       "      <td>100</td>\n",
       "      <td>2.24</td>\n",
       "      <td>HK</td>\n",
       "    </tr>\n",
       "    <tr>\n",
       "      <th>17</th>\n",
       "      <td>labuan</td>\n",
       "      <td>5.28</td>\n",
       "      <td>115.24</td>\n",
       "      <td>28.00</td>\n",
       "      <td>88</td>\n",
       "      <td>75</td>\n",
       "      <td>0.50</td>\n",
       "      <td>MY</td>\n",
       "    </tr>\n",
       "    <tr>\n",
       "      <th>18</th>\n",
       "      <td>busselton</td>\n",
       "      <td>-33.65</td>\n",
       "      <td>115.33</td>\n",
       "      <td>8.89</td>\n",
       "      <td>88</td>\n",
       "      <td>0</td>\n",
       "      <td>4.21</td>\n",
       "      <td>AU</td>\n",
       "    </tr>\n",
       "    <tr>\n",
       "      <th>19</th>\n",
       "      <td>derzhavinsk</td>\n",
       "      <td>51.10</td>\n",
       "      <td>66.32</td>\n",
       "      <td>10.63</td>\n",
       "      <td>92</td>\n",
       "      <td>0</td>\n",
       "      <td>4.35</td>\n",
       "      <td>KZ</td>\n",
       "    </tr>\n",
       "  </tbody>\n",
       "</table>\n",
       "</div>"
      ],
      "text/plain": [
       "          City_name    lat    long  max_temp  humidity  cloud  wind_speed  \\\n",
       "0              bara  10.37   10.73     26.61        70     14        4.76   \n",
       "1         boa vista   2.82  -60.67     29.00        66     20        2.10   \n",
       "2            albany  42.60  -73.97     26.11        65     78        2.24   \n",
       "3            hobart -42.88  147.33      8.33        65     75        6.70   \n",
       "4           rikitea -23.12 -134.97     21.42        70      0        9.43   \n",
       "5             yumen  40.28   97.20     24.02        19     99        2.98   \n",
       "6         tuatapere -46.13  167.68      3.89        83     60        1.34   \n",
       "7         jamestown  42.10  -79.24     26.00        54      1        4.10   \n",
       "8         bundaberg -24.85  152.35     19.00        82      1        3.10   \n",
       "9       kangaatsiaq  68.31  -53.46      5.36        85      0        6.45   \n",
       "10      xiaoweizhai  26.19  107.51     22.48        92     94        0.67   \n",
       "11            kutum  14.20   24.67     25.00        57     96        6.01   \n",
       "12           casper  42.87 -106.31     31.67        10      1        8.20   \n",
       "13    alice springs -23.70  133.88     13.00        50     50        3.60   \n",
       "14        saskylakh  71.92  114.08     13.06        59     54        5.93   \n",
       "15  arraial do cabo -22.97  -42.03     20.00        77     75        1.00   \n",
       "16         victoria  22.29  114.16     30.56        79    100        2.24   \n",
       "17           labuan   5.28  115.24     28.00        88     75        0.50   \n",
       "18        busselton -33.65  115.33      8.89        88      0        4.21   \n",
       "19      derzhavinsk  51.10   66.32     10.63        92      0        4.35   \n",
       "\n",
       "   country  \n",
       "0       NG  \n",
       "1       BR  \n",
       "2       US  \n",
       "3       AU  \n",
       "4       PF  \n",
       "5       CN  \n",
       "6       NZ  \n",
       "7       US  \n",
       "8       AU  \n",
       "9       GL  \n",
       "10      CN  \n",
       "11      SD  \n",
       "12      US  \n",
       "13      AU  \n",
       "14      RU  \n",
       "15      BR  \n",
       "16      HK  \n",
       "17      MY  \n",
       "18      AU  \n",
       "19      KZ  "
      ]
     },
     "execution_count": 8,
     "metadata": {},
     "output_type": "execute_result"
    }
   ],
   "source": [
    "#Review data\n",
    "weather_data.head(20)"
   ]
  },
  {
   "cell_type": "code",
   "execution_count": 9,
   "metadata": {},
   "outputs": [
    {
     "data": {
      "text/plain": [
       "City_name      object\n",
       "lat           float64\n",
       "long          float64\n",
       "max_temp      float64\n",
       "humidity        int64\n",
       "cloud           int64\n",
       "wind_speed    float64\n",
       "country        object\n",
       "dtype: object"
      ]
     },
     "execution_count": 9,
     "metadata": {},
     "output_type": "execute_result"
    }
   ],
   "source": [
    "#Check the datatypes\n",
    "weather_data.dtypes"
   ]
  },
  {
   "cell_type": "code",
   "execution_count": 10,
   "metadata": {},
   "outputs": [],
   "source": [
    "# Save as a csv\n",
    "# Note to avoid any issues later, use encoding=\"utf-8\"\n",
    "weather_data.to_csv(\"weatherdata.csv\", encoding=\"utf-8\", index=False)"
   ]
  },
  {
   "cell_type": "markdown",
   "metadata": {},
   "source": [
    "## Inspect the data and remove the cities where the humidity > 100%.\n",
    "----\n",
    "Skip this step if there are no cities that have humidity > 100%. "
   ]
  },
  {
   "cell_type": "code",
   "execution_count": 11,
   "metadata": {},
   "outputs": [
    {
     "data": {
      "text/html": [
       "<div>\n",
       "<style scoped>\n",
       "    .dataframe tbody tr th:only-of-type {\n",
       "        vertical-align: middle;\n",
       "    }\n",
       "\n",
       "    .dataframe tbody tr th {\n",
       "        vertical-align: top;\n",
       "    }\n",
       "\n",
       "    .dataframe thead th {\n",
       "        text-align: right;\n",
       "    }\n",
       "</style>\n",
       "<table border=\"1\" class=\"dataframe\">\n",
       "  <thead>\n",
       "    <tr style=\"text-align: right;\">\n",
       "      <th></th>\n",
       "      <th>lat</th>\n",
       "      <th>long</th>\n",
       "      <th>max_temp</th>\n",
       "      <th>humidity</th>\n",
       "      <th>cloud</th>\n",
       "      <th>wind_speed</th>\n",
       "    </tr>\n",
       "  </thead>\n",
       "  <tbody>\n",
       "    <tr>\n",
       "      <th>count</th>\n",
       "      <td>640.000000</td>\n",
       "      <td>640.000000</td>\n",
       "      <td>640.000000</td>\n",
       "      <td>640.000000</td>\n",
       "      <td>640.000000</td>\n",
       "      <td>640.000000</td>\n",
       "    </tr>\n",
       "    <tr>\n",
       "      <th>mean</th>\n",
       "      <td>19.690656</td>\n",
       "      <td>24.236312</td>\n",
       "      <td>20.087313</td>\n",
       "      <td>71.604687</td>\n",
       "      <td>45.185938</td>\n",
       "      <td>3.370734</td>\n",
       "    </tr>\n",
       "    <tr>\n",
       "      <th>std</th>\n",
       "      <td>33.083707</td>\n",
       "      <td>89.902597</td>\n",
       "      <td>7.844691</td>\n",
       "      <td>20.017949</td>\n",
       "      <td>39.437018</td>\n",
       "      <td>2.333113</td>\n",
       "    </tr>\n",
       "    <tr>\n",
       "      <th>min</th>\n",
       "      <td>-54.800000</td>\n",
       "      <td>-179.170000</td>\n",
       "      <td>-2.000000</td>\n",
       "      <td>9.000000</td>\n",
       "      <td>0.000000</td>\n",
       "      <td>0.180000</td>\n",
       "    </tr>\n",
       "    <tr>\n",
       "      <th>25%</th>\n",
       "      <td>-6.152500</td>\n",
       "      <td>-56.022500</td>\n",
       "      <td>13.705000</td>\n",
       "      <td>62.000000</td>\n",
       "      <td>2.000000</td>\n",
       "      <td>1.557500</td>\n",
       "    </tr>\n",
       "    <tr>\n",
       "      <th>50%</th>\n",
       "      <td>22.810000</td>\n",
       "      <td>26.295000</td>\n",
       "      <td>21.935000</td>\n",
       "      <td>76.000000</td>\n",
       "      <td>40.000000</td>\n",
       "      <td>2.690000</td>\n",
       "    </tr>\n",
       "    <tr>\n",
       "      <th>75%</th>\n",
       "      <td>46.190000</td>\n",
       "      <td>108.245000</td>\n",
       "      <td>26.012500</td>\n",
       "      <td>87.000000</td>\n",
       "      <td>90.000000</td>\n",
       "      <td>4.470000</td>\n",
       "    </tr>\n",
       "    <tr>\n",
       "      <th>max</th>\n",
       "      <td>78.220000</td>\n",
       "      <td>179.320000</td>\n",
       "      <td>40.000000</td>\n",
       "      <td>100.000000</td>\n",
       "      <td>100.000000</td>\n",
       "      <td>15.000000</td>\n",
       "    </tr>\n",
       "  </tbody>\n",
       "</table>\n",
       "</div>"
      ],
      "text/plain": [
       "              lat        long    max_temp    humidity       cloud  wind_speed\n",
       "count  640.000000  640.000000  640.000000  640.000000  640.000000  640.000000\n",
       "mean    19.690656   24.236312   20.087313   71.604687   45.185938    3.370734\n",
       "std     33.083707   89.902597    7.844691   20.017949   39.437018    2.333113\n",
       "min    -54.800000 -179.170000   -2.000000    9.000000    0.000000    0.180000\n",
       "25%     -6.152500  -56.022500   13.705000   62.000000    2.000000    1.557500\n",
       "50%     22.810000   26.295000   21.935000   76.000000   40.000000    2.690000\n",
       "75%     46.190000  108.245000   26.012500   87.000000   90.000000    4.470000\n",
       "max     78.220000  179.320000   40.000000  100.000000  100.000000   15.000000"
      ]
     },
     "execution_count": 11,
     "metadata": {},
     "output_type": "execute_result"
    }
   ],
   "source": [
    "#Show the overall weather_data general statistics\n",
    "weather_data.describe()"
   ]
  },
  {
   "cell_type": "markdown",
   "metadata": {},
   "source": [
    "There were no cities that had humidity over 100%"
   ]
  },
  {
   "cell_type": "code",
   "execution_count": 1,
   "metadata": {},
   "outputs": [
    {
     "ename": "NameError",
     "evalue": "name 'weather_data' is not defined",
     "output_type": "error",
     "traceback": [
      "\u001b[1;31m---------------------------------------------------------------------------\u001b[0m",
      "\u001b[1;31mNameError\u001b[0m                                 Traceback (most recent call last)",
      "\u001b[1;32m<ipython-input-1-11156751781c>\u001b[0m in \u001b[0;36m<module>\u001b[1;34m\u001b[0m\n\u001b[0;32m      1\u001b[0m \u001b[1;31m# Make a new DataFrame equal to the city data to drop all humidity outliers by index.\u001b[0m\u001b[1;33m\u001b[0m\u001b[1;33m\u001b[0m\u001b[1;33m\u001b[0m\u001b[0m\n\u001b[0;32m      2\u001b[0m \u001b[1;31m# THIS IS NOT NECESSARY - BUT CREATED NEW DF.\u001b[0m\u001b[1;33m\u001b[0m\u001b[1;33m\u001b[0m\u001b[1;33m\u001b[0m\u001b[0m\n\u001b[1;32m----> 3\u001b[1;33m \u001b[0mclean_city_data\u001b[0m \u001b[1;33m=\u001b[0m \u001b[0mweather_data\u001b[0m\u001b[1;33m.\u001b[0m\u001b[0mcopy\u001b[0m\u001b[1;33m(\u001b[0m\u001b[1;33m)\u001b[0m\u001b[1;33m\u001b[0m\u001b[1;33m\u001b[0m\u001b[0m\n\u001b[0m",
      "\u001b[1;31mNameError\u001b[0m: name 'weather_data' is not defined"
     ]
    }
   ],
   "source": [
    "# Make a new DataFrame equal to the city data to drop all humidity outliers by index.\n",
    "# THIS IS NOT NECESSARY - BUT CREATED NEW DF.\n",
    "clean_city_data = weather_data.copy()"
   ]
  },
  {
   "cell_type": "markdown",
   "metadata": {},
   "source": [
    "## Plotting the Data\n",
    "* Use proper labeling of the plots using plot titles (including date of analysis) and axes labels.\n",
    "* Save the plotted figures as .pngs."
   ]
  },
  {
   "cell_type": "markdown",
   "metadata": {},
   "source": [
    "## Latitude vs. Temperature Plot"
   ]
  },
  {
   "cell_type": "code",
   "execution_count": 151,
   "metadata": {},
   "outputs": [
    {
     "data": {
      "text/plain": [
       "<function matplotlib.pyplot.show(*args, **kw)>"
      ]
     },
     "execution_count": 151,
     "metadata": {},
     "output_type": "execute_result"
    },
    {
     "data": {
      "image/png": "[encoded data removed]",
      "text/plain": [
       "<Figure size 432x288 with 1 Axes>"
      ]
     },
     "metadata": {
      "needs_background": "light"
     },
     "output_type": "display_data"
    }
   ],
   "source": [
    "#Build a scatter plot for Latitude v Temp - Note Celsius is used\n",
    "plt.scatter(clean_city_data[\"lat\"], clean_city_data[\"max_temp\"], facecolors=\"orange\", marker=\"o\")\n",
    "\n",
    "#Incorporate other graph properties\n",
    "plt.title(\"City Latitudes v Max Temperatures\\n 3 July 2020\", fontsize=14, fontweight=\"bold\")\n",
    "plt.xlabel(\"City Latitude\")\n",
    "plt.ylabel(\"Max Temperatures (C)\")\n",
    "plt.xlim(-80,80)\n",
    "plt.grid()\n",
    "plt.savefig(\"../Images/lat_temp.png\")\n",
    "plt.show"
   ]
  },
  {
   "cell_type": "markdown",
   "metadata": {},
   "source": [
    "ANALYSIS / COMMENT\n",
    "\n",
    "As it is a northern hemisphere summer, temperatures are skewed to the northern hemispere, but generally the closer to the equator you are, the warmer you will be."
   ]
  },
  {
   "cell_type": "markdown",
   "metadata": {},
   "source": [
    "## Latitude vs. Humidity Plot"
   ]
  },
  {
   "cell_type": "code",
   "execution_count": 152,
   "metadata": {},
   "outputs": [
    {
     "data": {
      "text/plain": [
       "<function matplotlib.pyplot.show(*args, **kw)>"
      ]
     },
     "execution_count": 152,
     "metadata": {},
     "output_type": "execute_result"
    },
    {
     "data": {
      "image/png": "[encoded data removed]",
      "text/plain": [
       "<Figure size 432x288 with 1 Axes>"
      ]
     },
     "metadata": {
      "needs_background": "light"
     },
     "output_type": "display_data"
    }
   ],
   "source": [
    "#Build a scatter plot for Latitude v Humidity\n",
    "plt.scatter(clean_city_data[\"lat\"], clean_city_data[\"humidity\"], facecolors=\"orange\", marker=\"o\")\n",
    "\n",
    "#Incorporate other graph properties\n",
    "plt.title(\"City Latitudes v Humidity %\\n 3 July 2020\", fontsize=14, fontweight=\"bold\")\n",
    "plt.xlabel(\"City Latitude\")\n",
    "plt.ylabel(\"Humidity %\")\n",
    "plt.xlim(-80,80)\n",
    "plt.grid()\n",
    "plt.savefig(\"../Images/lat_humidity.png\")\n",
    "plt.show"
   ]
  },
  {
   "cell_type": "markdown",
   "metadata": {},
   "source": [
    "ANALYSIS / COMMENT\n",
    "\n",
    "There is not too many noticable trends, except that the closer to the equator you are the less likely you are to have humidity below about 50% and as it is northern hemisphere, there can be less humidity in certain places outside 20 degrees."
   ]
  },
  {
   "cell_type": "markdown",
   "metadata": {},
   "source": [
    "## Latitude vs. Cloudiness Plot"
   ]
  },
  {
   "cell_type": "code",
   "execution_count": 153,
   "metadata": {},
   "outputs": [
    {
     "data": {
      "text/plain": [
       "<function matplotlib.pyplot.show(*args, **kw)>"
      ]
     },
     "execution_count": 153,
     "metadata": {},
     "output_type": "execute_result"
    },
    {
     "data": {
      "image/png": "[encoded data removed]",
      "text/plain": [
       "<Figure size 432x288 with 1 Axes>"
      ]
     },
     "metadata": {
      "needs_background": "light"
     },
     "output_type": "display_data"
    }
   ],
   "source": [
    "#Build a scatter plot for Latitude v Cloudiness %\n",
    "plt.scatter(clean_city_data[\"lat\"], clean_city_data[\"cloud\"], facecolors=\"orange\", marker=\"o\")\n",
    "\n",
    "#Incorporate other graph properties\n",
    "plt.title(\"City Latitudes v Cloudiness\\n 3 July 2020\", fontsize=14, fontweight=\"bold\")\n",
    "plt.xlabel(\"City Latitude\")\n",
    "plt.ylabel(\"Cloudiness %\")\n",
    "plt.xlim(-80,80)\n",
    "plt.grid()\n",
    "plt.savefig(\"../Images/lat_cloudiness.png\")\n",
    "plt.show"
   ]
  },
  {
   "cell_type": "markdown",
   "metadata": {},
   "source": [
    "ANALYSIS / COMMENT\n",
    "\n",
    "Not much correlation between cloudiness and city latitudes."
   ]
  },
  {
   "cell_type": "markdown",
   "metadata": {},
   "source": [
    "## Latitude vs. Wind Speed Plot"
   ]
  },
  {
   "cell_type": "code",
   "execution_count": 154,
   "metadata": {
    "scrolled": true
   },
   "outputs": [
    {
     "data": {
      "text/plain": [
       "<function matplotlib.pyplot.show(*args, **kw)>"
      ]
     },
     "execution_count": 154,
     "metadata": {},
     "output_type": "execute_result"
    },
    {
     "data": {
      "image/png": "[encoded data removed]",
      "text/plain": [
       "<Figure size 432x288 with 1 Axes>"
      ]
     },
     "metadata": {
      "needs_background": "light"
     },
     "output_type": "display_data"
    }
   ],
   "source": [
    "#Build a scatter plot for Latitude v Current Wind-Speed\n",
    "plt.scatter(clean_city_data[\"lat\"], clean_city_data[\"wind_speed\"], facecolors=\"orange\", marker=\"o\")\n",
    "\n",
    "#Incorporate other graph properties\n",
    "plt.title(\"City Latitudes v Wind-Speed\\n 3 July 2020 - 5pm\", fontsize=14, fontweight=\"bold\")\n",
    "plt.xlabel(\"City Latitude\")\n",
    "plt.ylabel(\"Wind-Speed (kmh)\")\n",
    "plt.xlim(-80,80)\n",
    "plt.grid()\n",
    "plt.savefig(\"../Images/lat_windspeed.png\")\n",
    "plt.show"
   ]
  },
  {
   "cell_type": "markdown",
   "metadata": {},
   "source": [
    "ANALYSIS / COMMENT\n",
    "\n",
    "Not much correlation between wind speed and city latitudes."
   ]
  },
  {
   "cell_type": "markdown",
   "metadata": {},
   "source": [
    "## Linear Regression"
   ]
  },
  {
   "cell_type": "markdown",
   "metadata": {},
   "source": [
    "####  Northern Hemisphere - Max Temp vs. Latitude Linear Regression"
   ]
  },
  {
   "cell_type": "code",
   "execution_count": 75,
   "metadata": {},
   "outputs": [],
   "source": [
    "#Create a Northern Hesisphere DataFrame\n",
    "clean_northern = clean_city_data.loc[clean_city_data[\"lat\"] >= 0]"
   ]
  },
  {
   "cell_type": "code",
   "execution_count": 76,
   "metadata": {},
   "outputs": [
    {
     "data": {
      "text/html": [
       "<div>\n",
       "<style scoped>\n",
       "    .dataframe tbody tr th:only-of-type {\n",
       "        vertical-align: middle;\n",
       "    }\n",
       "\n",
       "    .dataframe tbody tr th {\n",
       "        vertical-align: top;\n",
       "    }\n",
       "\n",
       "    .dataframe thead th {\n",
       "        text-align: right;\n",
       "    }\n",
       "</style>\n",
       "<table border=\"1\" class=\"dataframe\">\n",
       "  <thead>\n",
       "    <tr style=\"text-align: right;\">\n",
       "      <th></th>\n",
       "      <th>City_name</th>\n",
       "      <th>lat</th>\n",
       "      <th>long</th>\n",
       "      <th>max_temp</th>\n",
       "      <th>humidity</th>\n",
       "      <th>cloud</th>\n",
       "      <th>wind_speed</th>\n",
       "      <th>country</th>\n",
       "    </tr>\n",
       "  </thead>\n",
       "  <tbody>\n",
       "    <tr>\n",
       "      <th>0</th>\n",
       "      <td>bara</td>\n",
       "      <td>10.37</td>\n",
       "      <td>10.73</td>\n",
       "      <td>26.61</td>\n",
       "      <td>70</td>\n",
       "      <td>14</td>\n",
       "      <td>4.76</td>\n",
       "      <td>NG</td>\n",
       "    </tr>\n",
       "    <tr>\n",
       "      <th>1</th>\n",
       "      <td>boa vista</td>\n",
       "      <td>2.82</td>\n",
       "      <td>-60.67</td>\n",
       "      <td>29.00</td>\n",
       "      <td>66</td>\n",
       "      <td>20</td>\n",
       "      <td>2.10</td>\n",
       "      <td>BR</td>\n",
       "    </tr>\n",
       "    <tr>\n",
       "      <th>2</th>\n",
       "      <td>albany</td>\n",
       "      <td>42.60</td>\n",
       "      <td>-73.97</td>\n",
       "      <td>26.11</td>\n",
       "      <td>65</td>\n",
       "      <td>78</td>\n",
       "      <td>2.24</td>\n",
       "      <td>US</td>\n",
       "    </tr>\n",
       "    <tr>\n",
       "      <th>5</th>\n",
       "      <td>yumen</td>\n",
       "      <td>40.28</td>\n",
       "      <td>97.20</td>\n",
       "      <td>24.02</td>\n",
       "      <td>19</td>\n",
       "      <td>99</td>\n",
       "      <td>2.98</td>\n",
       "      <td>CN</td>\n",
       "    </tr>\n",
       "    <tr>\n",
       "      <th>7</th>\n",
       "      <td>jamestown</td>\n",
       "      <td>42.10</td>\n",
       "      <td>-79.24</td>\n",
       "      <td>26.00</td>\n",
       "      <td>54</td>\n",
       "      <td>1</td>\n",
       "      <td>4.10</td>\n",
       "      <td>US</td>\n",
       "    </tr>\n",
       "    <tr>\n",
       "      <th>9</th>\n",
       "      <td>kangaatsiaq</td>\n",
       "      <td>68.31</td>\n",
       "      <td>-53.46</td>\n",
       "      <td>5.36</td>\n",
       "      <td>85</td>\n",
       "      <td>0</td>\n",
       "      <td>6.45</td>\n",
       "      <td>GL</td>\n",
       "    </tr>\n",
       "    <tr>\n",
       "      <th>10</th>\n",
       "      <td>xiaoweizhai</td>\n",
       "      <td>26.19</td>\n",
       "      <td>107.51</td>\n",
       "      <td>22.48</td>\n",
       "      <td>92</td>\n",
       "      <td>94</td>\n",
       "      <td>0.67</td>\n",
       "      <td>CN</td>\n",
       "    </tr>\n",
       "    <tr>\n",
       "      <th>11</th>\n",
       "      <td>kutum</td>\n",
       "      <td>14.20</td>\n",
       "      <td>24.67</td>\n",
       "      <td>25.00</td>\n",
       "      <td>57</td>\n",
       "      <td>96</td>\n",
       "      <td>6.01</td>\n",
       "      <td>SD</td>\n",
       "    </tr>\n",
       "    <tr>\n",
       "      <th>12</th>\n",
       "      <td>casper</td>\n",
       "      <td>42.87</td>\n",
       "      <td>-106.31</td>\n",
       "      <td>31.67</td>\n",
       "      <td>10</td>\n",
       "      <td>1</td>\n",
       "      <td>8.20</td>\n",
       "      <td>US</td>\n",
       "    </tr>\n",
       "    <tr>\n",
       "      <th>14</th>\n",
       "      <td>saskylakh</td>\n",
       "      <td>71.92</td>\n",
       "      <td>114.08</td>\n",
       "      <td>13.06</td>\n",
       "      <td>59</td>\n",
       "      <td>54</td>\n",
       "      <td>5.93</td>\n",
       "      <td>RU</td>\n",
       "    </tr>\n",
       "    <tr>\n",
       "      <th>16</th>\n",
       "      <td>victoria</td>\n",
       "      <td>22.29</td>\n",
       "      <td>114.16</td>\n",
       "      <td>30.56</td>\n",
       "      <td>79</td>\n",
       "      <td>100</td>\n",
       "      <td>2.24</td>\n",
       "      <td>HK</td>\n",
       "    </tr>\n",
       "    <tr>\n",
       "      <th>17</th>\n",
       "      <td>labuan</td>\n",
       "      <td>5.28</td>\n",
       "      <td>115.24</td>\n",
       "      <td>28.00</td>\n",
       "      <td>88</td>\n",
       "      <td>75</td>\n",
       "      <td>0.50</td>\n",
       "      <td>MY</td>\n",
       "    </tr>\n",
       "    <tr>\n",
       "      <th>19</th>\n",
       "      <td>derzhavinsk</td>\n",
       "      <td>51.10</td>\n",
       "      <td>66.32</td>\n",
       "      <td>10.63</td>\n",
       "      <td>92</td>\n",
       "      <td>0</td>\n",
       "      <td>4.35</td>\n",
       "      <td>KZ</td>\n",
       "    </tr>\n",
       "    <tr>\n",
       "      <th>27</th>\n",
       "      <td>bonthe</td>\n",
       "      <td>7.53</td>\n",
       "      <td>-12.51</td>\n",
       "      <td>24.39</td>\n",
       "      <td>90</td>\n",
       "      <td>100</td>\n",
       "      <td>2.55</td>\n",
       "      <td>SL</td>\n",
       "    </tr>\n",
       "    <tr>\n",
       "      <th>28</th>\n",
       "      <td>hovd</td>\n",
       "      <td>48.01</td>\n",
       "      <td>91.64</td>\n",
       "      <td>18.77</td>\n",
       "      <td>39</td>\n",
       "      <td>1</td>\n",
       "      <td>2.74</td>\n",
       "      <td>MN</td>\n",
       "    </tr>\n",
       "    <tr>\n",
       "      <th>29</th>\n",
       "      <td>kyren</td>\n",
       "      <td>51.68</td>\n",
       "      <td>102.14</td>\n",
       "      <td>20.15</td>\n",
       "      <td>54</td>\n",
       "      <td>3</td>\n",
       "      <td>0.35</td>\n",
       "      <td>RU</td>\n",
       "    </tr>\n",
       "    <tr>\n",
       "      <th>30</th>\n",
       "      <td>kodiak</td>\n",
       "      <td>57.79</td>\n",
       "      <td>-152.41</td>\n",
       "      <td>18.00</td>\n",
       "      <td>55</td>\n",
       "      <td>1</td>\n",
       "      <td>1.50</td>\n",
       "      <td>US</td>\n",
       "    </tr>\n",
       "    <tr>\n",
       "      <th>31</th>\n",
       "      <td>meulaboh</td>\n",
       "      <td>4.14</td>\n",
       "      <td>96.13</td>\n",
       "      <td>25.33</td>\n",
       "      <td>86</td>\n",
       "      <td>100</td>\n",
       "      <td>2.40</td>\n",
       "      <td>ID</td>\n",
       "    </tr>\n",
       "    <tr>\n",
       "      <th>32</th>\n",
       "      <td>la asuncion</td>\n",
       "      <td>11.03</td>\n",
       "      <td>-63.86</td>\n",
       "      <td>33.00</td>\n",
       "      <td>63</td>\n",
       "      <td>2</td>\n",
       "      <td>7.70</td>\n",
       "      <td>VE</td>\n",
       "    </tr>\n",
       "    <tr>\n",
       "      <th>33</th>\n",
       "      <td>berlevag</td>\n",
       "      <td>70.86</td>\n",
       "      <td>29.09</td>\n",
       "      <td>7.63</td>\n",
       "      <td>84</td>\n",
       "      <td>94</td>\n",
       "      <td>7.15</td>\n",
       "      <td>NO</td>\n",
       "    </tr>\n",
       "  </tbody>\n",
       "</table>\n",
       "</div>"
      ],
      "text/plain": [
       "      City_name    lat    long  max_temp  humidity  cloud  wind_speed country\n",
       "0          bara  10.37   10.73     26.61        70     14        4.76      NG\n",
       "1     boa vista   2.82  -60.67     29.00        66     20        2.10      BR\n",
       "2        albany  42.60  -73.97     26.11        65     78        2.24      US\n",
       "5         yumen  40.28   97.20     24.02        19     99        2.98      CN\n",
       "7     jamestown  42.10  -79.24     26.00        54      1        4.10      US\n",
       "9   kangaatsiaq  68.31  -53.46      5.36        85      0        6.45      GL\n",
       "10  xiaoweizhai  26.19  107.51     22.48        92     94        0.67      CN\n",
       "11        kutum  14.20   24.67     25.00        57     96        6.01      SD\n",
       "12       casper  42.87 -106.31     31.67        10      1        8.20      US\n",
       "14    saskylakh  71.92  114.08     13.06        59     54        5.93      RU\n",
       "16     victoria  22.29  114.16     30.56        79    100        2.24      HK\n",
       "17       labuan   5.28  115.24     28.00        88     75        0.50      MY\n",
       "19  derzhavinsk  51.10   66.32     10.63        92      0        4.35      KZ\n",
       "27       bonthe   7.53  -12.51     24.39        90    100        2.55      SL\n",
       "28         hovd  48.01   91.64     18.77        39      1        2.74      MN\n",
       "29        kyren  51.68  102.14     20.15        54      3        0.35      RU\n",
       "30       kodiak  57.79 -152.41     18.00        55      1        1.50      US\n",
       "31     meulaboh   4.14   96.13     25.33        86    100        2.40      ID\n",
       "32  la asuncion  11.03  -63.86     33.00        63      2        7.70      VE\n",
       "33     berlevag  70.86   29.09      7.63        84     94        7.15      NO"
      ]
     },
     "execution_count": 76,
     "metadata": {},
     "output_type": "execute_result"
    }
   ],
   "source": [
    "clean_northern.head(20)"
   ]
  },
  {
   "cell_type": "code",
   "execution_count": 77,
   "metadata": {},
   "outputs": [
    {
     "data": {
      "text/plain": [
       "-0.71"
      ]
     },
     "execution_count": 77,
     "metadata": {},
     "output_type": "execute_result"
    }
   ],
   "source": [
    "#Calculate the correlation coefficient for the maximum temp in celsius\n",
    "round(st.pearsonr(clean_northern[\"lat\"], clean_northern[\"max_temp\"])[0], 2)"
   ]
  },
  {
   "cell_type": "code",
   "execution_count": 81,
   "metadata": {},
   "outputs": [],
   "source": [
    "#Calculate the linear regression for the maximum temp in celsius\n",
    "temp_slope_nth, temp_int_nth, temp_r_nth, temp_p_nth, temp_std_err_nth = stats.linregress(clean_northern[\"lat\"], clean_northern[\"max_temp\"])"
   ]
  },
  {
   "cell_type": "code",
   "execution_count": 82,
   "metadata": {},
   "outputs": [],
   "source": [
    "#Equation of the line to calculate the linear regression maximum temp in celsius\n",
    "temp_fit_nth = temp_slope_nth * clean_northern[\"lat\"] + temp_int_nth"
   ]
  },
  {
   "cell_type": "code",
   "execution_count": 156,
   "metadata": {},
   "outputs": [
    {
     "name": "stdout",
     "output_type": "stream",
     "text": [
      "The r-squared is: 0.4975765353621274\n"
     ]
    },
    {
     "data": {
      "text/plain": [
       "<function matplotlib.pyplot.show(*args, **kw)>"
      ]
     },
     "execution_count": 156,
     "metadata": {},
     "output_type": "execute_result"
    },
    {
     "data": {
      "image/png": "[encoded data removed]",
      "text/plain": [
       "<Figure size 432x288 with 1 Axes>"
      ]
     },
     "metadata": {
      "needs_background": "light"
     },
     "output_type": "display_data"
    }
   ],
   "source": [
    "#Build a scatter plot for Latitude v Temp - Note Celsius is used\n",
    "plt.scatter(clean_northern[\"lat\"], clean_northern[\"max_temp\"], facecolors=\"orange\", marker=\"o\")\n",
    "plt.plot(clean_northern[\"lat\"], temp_fit_nth, \"--\")\n",
    "\n",
    "#Incorporate other graph properties\n",
    "plt.title(\"Northern Hemisphere\\n Max Temperatures v City Latitudes (3 July 2020)\", fontsize=14, fontweight=\"bold\")\n",
    "plt.xlabel(\"City Latitude\")\n",
    "plt.ylabel(\"Max Temperatures (C)\")\n",
    "plt.xlim(0,80)\n",
    "plt.ylim(0,45)\n",
    "plt.grid()\n",
    "print(f\"The r-squared is: {temp_r_nth**2}\")\n",
    "plt.savefig(\"../Images/Nthern_temp.png\")\n",
    "plt.show\n"
   ]
  },
  {
   "cell_type": "markdown",
   "metadata": {},
   "source": [
    "####  Southern Hemisphere - Max Temp vs. Latitude Linear Regression"
   ]
  },
  {
   "cell_type": "code",
   "execution_count": 74,
   "metadata": {},
   "outputs": [],
   "source": [
    "#Create a Southern Hesisphere DataFrame\n",
    "clean_southern = clean_city_data.loc[clean_city_data[\"lat\"] <= 0]"
   ]
  },
  {
   "cell_type": "code",
   "execution_count": 88,
   "metadata": {},
   "outputs": [
    {
     "data": {
      "text/html": [
       "<div>\n",
       "<style scoped>\n",
       "    .dataframe tbody tr th:only-of-type {\n",
       "        vertical-align: middle;\n",
       "    }\n",
       "\n",
       "    .dataframe tbody tr th {\n",
       "        vertical-align: top;\n",
       "    }\n",
       "\n",
       "    .dataframe thead th {\n",
       "        text-align: right;\n",
       "    }\n",
       "</style>\n",
       "<table border=\"1\" class=\"dataframe\">\n",
       "  <thead>\n",
       "    <tr style=\"text-align: right;\">\n",
       "      <th></th>\n",
       "      <th>City_name</th>\n",
       "      <th>lat</th>\n",
       "      <th>long</th>\n",
       "      <th>max_temp</th>\n",
       "      <th>humidity</th>\n",
       "      <th>cloud</th>\n",
       "      <th>wind_speed</th>\n",
       "      <th>country</th>\n",
       "    </tr>\n",
       "  </thead>\n",
       "  <tbody>\n",
       "    <tr>\n",
       "      <th>3</th>\n",
       "      <td>hobart</td>\n",
       "      <td>-42.88</td>\n",
       "      <td>147.33</td>\n",
       "      <td>8.33</td>\n",
       "      <td>65</td>\n",
       "      <td>75</td>\n",
       "      <td>6.70</td>\n",
       "      <td>AU</td>\n",
       "    </tr>\n",
       "    <tr>\n",
       "      <th>4</th>\n",
       "      <td>rikitea</td>\n",
       "      <td>-23.12</td>\n",
       "      <td>-134.97</td>\n",
       "      <td>21.42</td>\n",
       "      <td>70</td>\n",
       "      <td>0</td>\n",
       "      <td>9.43</td>\n",
       "      <td>PF</td>\n",
       "    </tr>\n",
       "    <tr>\n",
       "      <th>6</th>\n",
       "      <td>tuatapere</td>\n",
       "      <td>-46.13</td>\n",
       "      <td>167.68</td>\n",
       "      <td>3.89</td>\n",
       "      <td>83</td>\n",
       "      <td>60</td>\n",
       "      <td>1.34</td>\n",
       "      <td>NZ</td>\n",
       "    </tr>\n",
       "    <tr>\n",
       "      <th>8</th>\n",
       "      <td>bundaberg</td>\n",
       "      <td>-24.85</td>\n",
       "      <td>152.35</td>\n",
       "      <td>19.00</td>\n",
       "      <td>82</td>\n",
       "      <td>1</td>\n",
       "      <td>3.10</td>\n",
       "      <td>AU</td>\n",
       "    </tr>\n",
       "    <tr>\n",
       "      <th>13</th>\n",
       "      <td>alice springs</td>\n",
       "      <td>-23.70</td>\n",
       "      <td>133.88</td>\n",
       "      <td>13.00</td>\n",
       "      <td>50</td>\n",
       "      <td>50</td>\n",
       "      <td>3.60</td>\n",
       "      <td>AU</td>\n",
       "    </tr>\n",
       "  </tbody>\n",
       "</table>\n",
       "</div>"
      ],
      "text/plain": [
       "        City_name    lat    long  max_temp  humidity  cloud  wind_speed  \\\n",
       "3          hobart -42.88  147.33      8.33        65     75        6.70   \n",
       "4         rikitea -23.12 -134.97     21.42        70      0        9.43   \n",
       "6       tuatapere -46.13  167.68      3.89        83     60        1.34   \n",
       "8       bundaberg -24.85  152.35     19.00        82      1        3.10   \n",
       "13  alice springs -23.70  133.88     13.00        50     50        3.60   \n",
       "\n",
       "   country  \n",
       "3       AU  \n",
       "4       PF  \n",
       "6       NZ  \n",
       "8       AU  \n",
       "13      AU  "
      ]
     },
     "execution_count": 88,
     "metadata": {},
     "output_type": "execute_result"
    }
   ],
   "source": [
    "clean_southern.head(5)"
   ]
  },
  {
   "cell_type": "code",
   "execution_count": 89,
   "metadata": {},
   "outputs": [
    {
     "data": {
      "text/plain": [
       "0.81"
      ]
     },
     "execution_count": 89,
     "metadata": {},
     "output_type": "execute_result"
    }
   ],
   "source": [
    "#Calculate the correlation coefficient for the maximum temp in celsius\n",
    "round(st.pearsonr(clean_southern[\"lat\"], clean_southern[\"max_temp\"])[0], 2)"
   ]
  },
  {
   "cell_type": "code",
   "execution_count": 90,
   "metadata": {},
   "outputs": [],
   "source": [
    "#Calculate the linear regression for the maximum temp in celsius\n",
    "temp_slope_sth, temp_int_sth, temp_r_sth, temp_p_sth, temp_std_err_sth = stats.linregress(clean_southern[\"lat\"], clean_southern[\"max_temp\"])"
   ]
  },
  {
   "cell_type": "code",
   "execution_count": 91,
   "metadata": {},
   "outputs": [],
   "source": [
    "#Equation of the line to calculate the linear regression maximum temp in celsius\n",
    "temp_fit_sth = temp_slope_sth * clean_southern[\"lat\"] + temp_int_sth"
   ]
  },
  {
   "cell_type": "code",
   "execution_count": 157,
   "metadata": {},
   "outputs": [
    {
     "name": "stdout",
     "output_type": "stream",
     "text": [
      "The r-squared is: 0.6505348648875644\n"
     ]
    },
    {
     "data": {
      "text/plain": [
       "<function matplotlib.pyplot.show(*args, **kw)>"
      ]
     },
     "execution_count": 157,
     "metadata": {},
     "output_type": "execute_result"
    },
    {
     "data": {
      "image/png": "[encoded data removed]",
      "text/plain": [
       "<Figure size 432x288 with 1 Axes>"
      ]
     },
     "metadata": {
      "needs_background": "light"
     },
     "output_type": "display_data"
    }
   ],
   "source": [
    "#Build a scatter plot for Temerature v Latitude (Southern)\n",
    "plt.scatter(clean_southern[\"lat\"], clean_southern[\"max_temp\"], facecolors=\"orange\", marker=\"o\")\n",
    "plt.plot(clean_southern[\"lat\"], temp_fit_sth, \"--\")\n",
    "\n",
    "#Incorporate other graph properties\n",
    "plt.title(\"Southern Hemisphere\\n Maximum Temps (C) v City Latitudes (3 July 2020)\", fontsize=14, fontweight=\"bold\")\n",
    "plt.xlabel(\"City Latitude\")\n",
    "plt.ylabel(\"Max Temperatures (C)\")\n",
    "plt.xlim(-60,0)\n",
    "plt.ylim(-5,45)\n",
    "plt.grid()\n",
    "print(f\"The r-squared is: {temp_r_sth**2}\")\n",
    "plt.savefig(\"../Images/Sthern_maxtemp.png\")\n",
    "plt.show"
   ]
  },
  {
   "cell_type": "markdown",
   "metadata": {},
   "source": [
    "ANALYSIS / COMMENT - MAX TEMPERATURES V LATITUDES\n",
    "\n",
    "Being a nortern hemisphere summer, temperatures are hotter, particularly between the 20 - 50 degrees latitude.  As expected with both charts given the linear regression lines, the further away from the equator you are the colder it gets."
   ]
  },
  {
   "cell_type": "markdown",
   "metadata": {},
   "source": [
    "####  Northern Hemisphere - Humidity (%) vs. Latitude Linear Regression"
   ]
  },
  {
   "cell_type": "code",
   "execution_count": 149,
   "metadata": {},
   "outputs": [
    {
     "data": {
      "text/plain": [
       "-0.08"
      ]
     },
     "execution_count": 149,
     "metadata": {},
     "output_type": "execute_result"
    }
   ],
   "source": [
    "#Calculate the correlation coefficient for the % humidity\n",
    "round(st.pearsonr(clean_northern[\"lat\"], clean_northern[\"humidity\"])[0], 2)"
   ]
  },
  {
   "cell_type": "code",
   "execution_count": 96,
   "metadata": {},
   "outputs": [],
   "source": [
    "#Calculate the linear regression for the % humidity\n",
    "hum_slope_nth, hum_int_nth, hum_r_nth, hum_p_nth, hum_std_err_nth = stats.linregress(clean_northern[\"lat\"], clean_northern[\"humidity\"])"
   ]
  },
  {
   "cell_type": "code",
   "execution_count": 97,
   "metadata": {},
   "outputs": [],
   "source": [
    "#Equation of the line to calculate the linear regression maximum temp in celsius\n",
    "hum_fit_nth = hum_slope_nth * clean_northern[\"lat\"] + hum_int_nth"
   ]
  },
  {
   "cell_type": "code",
   "execution_count": 158,
   "metadata": {},
   "outputs": [
    {
     "name": "stdout",
     "output_type": "stream",
     "text": [
      "The r-squared is: 0.006858735553210344\n"
     ]
    },
    {
     "data": {
      "text/plain": [
       "<function matplotlib.pyplot.show(*args, **kw)>"
      ]
     },
     "execution_count": 158,
     "metadata": {},
     "output_type": "execute_result"
    },
    {
     "data": {
      "image/png": "[encoded data removed]",
      "text/plain": [
       "<Figure size 432x288 with 1 Axes>"
      ]
     },
     "metadata": {
      "needs_background": "light"
     },
     "output_type": "display_data"
    }
   ],
   "source": [
    "#Build a scatter plot for Humidity v Latitude\n",
    "plt.scatter(clean_northern[\"lat\"], clean_northern[\"humidity\"], facecolors=\"orange\", marker=\"o\")\n",
    "plt.plot(clean_northern[\"lat\"], hum_fit_nth, \"--\")\n",
    "\n",
    "#Incorporate other graph properties\n",
    "plt.title(\"Northern Hemisphere\\n Humidity v City Latitudes (3 July 2020)\", fontsize=14, fontweight=\"bold\")\n",
    "plt.xlabel(\"City Latitude\")\n",
    "plt.ylabel(\"Humidity %\")\n",
    "plt.xlim(0,80)\n",
    "plt.ylim(0,100)\n",
    "plt.grid()\n",
    "print(f\"The r-squared is: {hum_r_nth**2}\")\n",
    "plt.savefig(\"../Images/Nthern_humidity.png\")\n",
    "plt.show"
   ]
  },
  {
   "cell_type": "markdown",
   "metadata": {},
   "source": [
    "####  Southern Hemisphere - Humidity (%) vs. Latitude Linear Regression"
   ]
  },
  {
   "cell_type": "code",
   "execution_count": 105,
   "metadata": {},
   "outputs": [
    {
     "data": {
      "text/plain": [
       "-0.01"
      ]
     },
     "execution_count": 105,
     "metadata": {},
     "output_type": "execute_result"
    }
   ],
   "source": [
    "#Calculate the correlation coefficient for the % humidity\n",
    "round(st.pearsonr(clean_southern[\"lat\"], clean_southern[\"humidity\"])[0], 2)"
   ]
  },
  {
   "cell_type": "code",
   "execution_count": 106,
   "metadata": {},
   "outputs": [],
   "source": [
    "#Calculate the linear regression for the % humidity\n",
    "hum_slope_sth, hum_int_sth, hum_r_sth, hum_p_sth, hum_std_err_sth = stats.linregress(clean_southern[\"lat\"], clean_southern[\"humidity\"])"
   ]
  },
  {
   "cell_type": "code",
   "execution_count": 107,
   "metadata": {},
   "outputs": [],
   "source": [
    "#Equation of the line to calculate the linear regression maximum temp in celsius\n",
    "hum_fit_sth = hum_slope_sth * clean_southern[\"lat\"] + hum_int_sth"
   ]
  },
  {
   "cell_type": "code",
   "execution_count": 159,
   "metadata": {},
   "outputs": [
    {
     "name": "stdout",
     "output_type": "stream",
     "text": [
      "The r-squared is: 0.0001149934016578383\n"
     ]
    },
    {
     "data": {
      "text/plain": [
       "<function matplotlib.pyplot.show(*args, **kw)>"
      ]
     },
     "execution_count": 159,
     "metadata": {},
     "output_type": "execute_result"
    },
    {
     "data": {
      "image/png": "[encoded data removed]",
      "text/plain": [
       "<Figure size 432x288 with 1 Axes>"
      ]
     },
     "metadata": {
      "needs_background": "light"
     },
     "output_type": "display_data"
    }
   ],
   "source": [
    "#Build a scatter plot for Humidity v Latitude\n",
    "plt.scatter(clean_southern[\"lat\"], clean_southern[\"humidity\"], facecolors=\"orange\", marker=\"o\")\n",
    "plt.plot(clean_southern[\"lat\"], hum_fit_sth, \"--\")\n",
    "\n",
    "#Incorporate other graph properties\n",
    "plt.title(\"Southern Hemisphere\\n Humidity v City Latitudes (3 July 2020)\", fontsize=14, fontweight=\"bold\")\n",
    "plt.xlabel(\"City Latitude\")\n",
    "plt.ylabel(\"Humidity %\")\n",
    "plt.xlim(-60,0)\n",
    "plt.ylim(0,100)\n",
    "plt.grid()\n",
    "print(f\"The r-squared is: {hum_r_sth**2}\")\n",
    "plt.savefig(\"../Images/Southern_humidity.png\")\n",
    "plt.show"
   ]
  },
  {
   "cell_type": "markdown",
   "metadata": {},
   "source": [
    "ANALYSIS / COMMENT\n",
    "\n",
    "The linear regressions show that there is minimal correlation between humidity and city latitudes.  What would be interesting would be to see if the same outcomes are arrived at during the southern hemisphere summer."
   ]
  },
  {
   "cell_type": "markdown",
   "metadata": {},
   "source": [
    "####  Northern Hemisphere - Cloudiness (%) vs. Latitude Linear Regression"
   ]
  },
  {
   "cell_type": "code",
   "execution_count": 109,
   "metadata": {},
   "outputs": [
    {
     "data": {
      "text/plain": [
       "-0.04"
      ]
     },
     "execution_count": 109,
     "metadata": {},
     "output_type": "execute_result"
    }
   ],
   "source": [
    "#Calculate the correlation coefficient for the Cloudiness %\n",
    "round(st.pearsonr(clean_northern[\"lat\"], clean_northern[\"cloud\"])[0], 2)"
   ]
  },
  {
   "cell_type": "code",
   "execution_count": 110,
   "metadata": {},
   "outputs": [],
   "source": [
    "#Calculate the linear regression for the Cloudiness %\n",
    "cloud_slope_nth, cloud_int_nth, cloud_r_nth, cloud_p_nth, cloud_std_err_nth = stats.linregress(clean_northern[\"lat\"], clean_northern[\"cloud\"])"
   ]
  },
  {
   "cell_type": "code",
   "execution_count": 111,
   "metadata": {},
   "outputs": [],
   "source": [
    "#Equation of the line to calculate the linear regression Cloudiness %\n",
    "cloud_fit_nth = cloud_slope_nth * clean_northern[\"lat\"] + cloud_int_nth"
   ]
  },
  {
   "cell_type": "code",
   "execution_count": 160,
   "metadata": {},
   "outputs": [
    {
     "name": "stdout",
     "output_type": "stream",
     "text": [
      "The r-squared is: 0.0017474475797452011\n"
     ]
    },
    {
     "data": {
      "text/plain": [
       "<function matplotlib.pyplot.show(*args, **kw)>"
      ]
     },
     "execution_count": 160,
     "metadata": {},
     "output_type": "execute_result"
    },
    {
     "data": {
      "image/png": "[encoded data removed]",
      "text/plain": [
       "<Figure size 432x288 with 1 Axes>"
      ]
     },
     "metadata": {
      "needs_background": "light"
     },
     "output_type": "display_data"
    }
   ],
   "source": [
    "#Build a scatter plot for Cloudiness % v Latitude\n",
    "plt.scatter(clean_northern[\"lat\"], clean_northern[\"cloud\"], facecolors=\"orange\", marker=\"o\")\n",
    "plt.plot(clean_northern[\"lat\"], cloud_fit_nth, \"--\")\n",
    "\n",
    "#Incorporate other graph properties\n",
    "plt.title(\"Northern Hemisphere\\n Cloudiness v City Latitudes (3 July 2020)\", fontsize=14, fontweight=\"bold\")\n",
    "plt.xlabel(\"City Latitude\")\n",
    "plt.ylabel(\"Cloudiness %\")\n",
    "plt.xlim(0,80)\n",
    "plt.ylim(0,100)\n",
    "plt.grid()\n",
    "print(f\"The r-squared is: {cloud_r_nth**2}\")\n",
    "plt.savefig(\"../Images/Northern_cloudiness.png\")\n",
    "plt.show"
   ]
  },
  {
   "cell_type": "markdown",
   "metadata": {},
   "source": [
    "####  Southern Hemisphere - Cloudiness (%) vs. Latitude Linear Regression"
   ]
  },
  {
   "cell_type": "code",
   "execution_count": 115,
   "metadata": {},
   "outputs": [
    {
     "data": {
      "text/plain": [
       "0.04"
      ]
     },
     "execution_count": 115,
     "metadata": {},
     "output_type": "execute_result"
    }
   ],
   "source": [
    "#Calculate the correlation coefficient for the Cloudiness %\n",
    "round(st.pearsonr(clean_southern[\"lat\"], clean_southern[\"cloud\"])[0], 2)"
   ]
  },
  {
   "cell_type": "code",
   "execution_count": 116,
   "metadata": {},
   "outputs": [],
   "source": [
    "#Calculate the linear regression for the Cloudiness %\n",
    "cloud_slope_sth, cloud_int_sth, cloud_r_sth, cloud_p_sth, cloud_std_err_sth = stats.linregress(clean_southern[\"lat\"], clean_southern[\"cloud\"])"
   ]
  },
  {
   "cell_type": "code",
   "execution_count": 117,
   "metadata": {},
   "outputs": [],
   "source": [
    "#Equation of the line to calculate the linear regression Cloudiness %\n",
    "cloud_fit_sth = cloud_slope_sth * clean_southern[\"lat\"] + cloud_int_sth"
   ]
  },
  {
   "cell_type": "code",
   "execution_count": 161,
   "metadata": {},
   "outputs": [
    {
     "name": "stdout",
     "output_type": "stream",
     "text": [
      "The r-squared is: 0.0019234519698420884\n"
     ]
    },
    {
     "data": {
      "text/plain": [
       "<function matplotlib.pyplot.show(*args, **kw)>"
      ]
     },
     "execution_count": 161,
     "metadata": {},
     "output_type": "execute_result"
    },
    {
     "data": {
      "image/png": "[encoded data removed]",
      "text/plain": [
       "<Figure size 432x288 with 1 Axes>"
      ]
     },
     "metadata": {
      "needs_background": "light"
     },
     "output_type": "display_data"
    }
   ],
   "source": [
    "#Build a scatter plot for Cloudiness % v Latitude\n",
    "plt.scatter(clean_southern[\"lat\"], clean_southern[\"cloud\"], facecolors=\"orange\", marker=\"o\")\n",
    "plt.plot(clean_southern[\"lat\"], cloud_fit_sth, \"--\")\n",
    "\n",
    "#Incorporate other graph properties\n",
    "plt.title(\"Southern Hemisphere\\n Cloudiness v City Latitudes (3 July 2020)\", fontsize=14, fontweight=\"bold\")\n",
    "plt.xlabel(\"City Latitude\")\n",
    "plt.ylabel(\"Humidity %\")\n",
    "plt.xlim(-60,0)\n",
    "plt.ylim(0,100)\n",
    "plt.grid()\n",
    "print(f\"The r-squared is: {cloud_r_sth**2}\")\n",
    "plt.savefig(\"../Images/Southern_cloudiness.png\")\n",
    "plt.show"
   ]
  },
  {
   "cell_type": "markdown",
   "metadata": {},
   "source": [
    "ANALYSIS / COMMENT\n",
    "\n",
    "Like the humidity, the linear regressions show that there is very small correlation between cloudiness and city latitudes, although slightly more clouds the closer to the equator you get."
   ]
  },
  {
   "cell_type": "markdown",
   "metadata": {},
   "source": [
    "####  Northern Hemisphere - Wind Speed (mph) vs. Latitude Linear Regression"
   ]
  },
  {
   "cell_type": "code",
   "execution_count": 119,
   "metadata": {},
   "outputs": [
    {
     "data": {
      "text/plain": [
       "0.07"
      ]
     },
     "execution_count": 119,
     "metadata": {},
     "output_type": "execute_result"
    }
   ],
   "source": [
    "#Calculate the correlation coefficient for the wind speed\n",
    "round(st.pearsonr(clean_northern[\"lat\"], clean_northern[\"wind_speed\"])[0], 2)"
   ]
  },
  {
   "cell_type": "code",
   "execution_count": 120,
   "metadata": {},
   "outputs": [],
   "source": [
    "#Calculate the linear regression for the wind speed\n",
    "wind_slope_nth, wind_int_nth, wind_r_nth, wind_p_nth, wind_std_err_nth = stats.linregress(clean_northern[\"lat\"], clean_northern[\"wind_speed\"])"
   ]
  },
  {
   "cell_type": "code",
   "execution_count": 121,
   "metadata": {},
   "outputs": [],
   "source": [
    "#Equation of the line to calculate the linear regression wind speed\n",
    "wind_fit_nth = wind_slope_nth * clean_northern[\"lat\"] + wind_int_nth"
   ]
  },
  {
   "cell_type": "code",
   "execution_count": 162,
   "metadata": {},
   "outputs": [
    {
     "name": "stdout",
     "output_type": "stream",
     "text": [
      "The r-squared is: 0.004853545162575334\n"
     ]
    },
    {
     "data": {
      "text/plain": [
       "<function matplotlib.pyplot.show(*args, **kw)>"
      ]
     },
     "execution_count": 162,
     "metadata": {},
     "output_type": "execute_result"
    },
    {
     "data": {
      "image/png": "[encoded data removed]",
      "text/plain": [
       "<Figure size 432x288 with 1 Axes>"
      ]
     },
     "metadata": {
      "needs_background": "light"
     },
     "output_type": "display_data"
    }
   ],
   "source": [
    "#Build a scatter plot for wind speed v Latitude\n",
    "plt.scatter(clean_northern[\"lat\"], clean_northern[\"wind_speed\"], facecolors=\"orange\", marker=\"o\")\n",
    "plt.plot(clean_northern[\"lat\"], wind_fit_nth, \"--\")\n",
    "\n",
    "#Incorporate other graph properties\n",
    "plt.title(\"Northern Hemisphere\\n Wind Speed (kph) v City Latitudes (3 July 2020)\", fontsize=14, fontweight=\"bold\")\n",
    "plt.xlabel(\"City Latitude\")\n",
    "plt.ylabel(\"Wind Speed (kph)\")\n",
    "plt.xlim(0,80)\n",
    "plt.ylim(0,20)\n",
    "plt.grid()\n",
    "print(f\"The r-squared is: {wind_r_nth**2}\")\n",
    "plt.savefig(\"../Images/Northern_WindSpeed.png\")\n",
    "plt.show"
   ]
  },
  {
   "cell_type": "markdown",
   "metadata": {},
   "source": [
    "####  Southern Hemisphere - Wind Speed (mph) vs. Latitude Linear Regression"
   ]
  },
  {
   "cell_type": "code",
   "execution_count": 132,
   "metadata": {},
   "outputs": [
    {
     "data": {
      "text/plain": [
       "-0.03"
      ]
     },
     "execution_count": 132,
     "metadata": {},
     "output_type": "execute_result"
    }
   ],
   "source": [
    "#Calculate the correlation coefficient for the wind speed\n",
    "round(st.pearsonr(clean_southern[\"lat\"], clean_southern[\"wind_speed\"])[0], 2)"
   ]
  },
  {
   "cell_type": "code",
   "execution_count": 133,
   "metadata": {},
   "outputs": [],
   "source": [
    "#Calculate the linear regression for the wind speed\n",
    "wind_slope_sth, wind_int_sth, wind_r_sth, wind_p_sth, wind_std_err_sth = stats.linregress(clean_southern[\"lat\"], clean_southern[\"wind_speed\"])"
   ]
  },
  {
   "cell_type": "code",
   "execution_count": 134,
   "metadata": {},
   "outputs": [],
   "source": [
    "#Equation of the line to calculate the linear regression wind speed\n",
    "wind_fit_sth = wind_slope_sth * clean_southern[\"lat\"] + wind_int_sth"
   ]
  },
  {
   "cell_type": "code",
   "execution_count": 163,
   "metadata": {},
   "outputs": [
    {
     "name": "stdout",
     "output_type": "stream",
     "text": [
      "The r-squared is: 0.004853545162575334\n"
     ]
    },
    {
     "data": {
      "text/plain": [
       "<function matplotlib.pyplot.show(*args, **kw)>"
      ]
     },
     "execution_count": 163,
     "metadata": {},
     "output_type": "execute_result"
    },
    {
     "data": {
      "image/png": "[encoded data removed]",
      "text/plain": [
       "<Figure size 432x288 with 1 Axes>"
      ]
     },
     "metadata": {
      "needs_background": "light"
     },
     "output_type": "display_data"
    }
   ],
   "source": [
    "#Build a scatter plot for wind speed v Latitude\n",
    "plt.scatter(clean_southern[\"lat\"], clean_southern[\"wind_speed\"], facecolors=\"orange\", marker=\"o\")\n",
    "plt.plot(clean_southern[\"lat\"], wind_fit_sth, \"--\")\n",
    "\n",
    "#Incorporate other graph properties\n",
    "plt.title(\"Southern Hemisphere\\n Wind Speed (kph) v City Latitudes (3 July 2020)\", fontsize=14, fontweight=\"bold\")\n",
    "plt.xlabel(\"City Latitude\")\n",
    "plt.ylabel(\"Wind Speed (kph)\")\n",
    "plt.xlim(-60,0)\n",
    "plt.ylim(0,15)\n",
    "plt.grid()\n",
    "print(f\"The r-squared is: {wind_r_nth**2}\")\n",
    "plt.savefig(\"../Images/Southern_WindSpeed.png\")\n",
    "plt.show"
   ]
  },
  {
   "cell_type": "markdown",
   "metadata": {},
   "source": [
    "ANALYSIS / COMMENT\n",
    "\n",
    "Notwithstanding some outliers, there is a very small likelihood that it may be slightly windier the further away from the equator you are."
   ]
  },
  {
   "cell_type": "code",
   "execution_count": null,
   "metadata": {},
   "outputs": [],
   "source": []
  }
 ],
 "metadata": {
  "anaconda-cloud": {},
  "kernel_info": {
   "name": "python3"
  },
  "kernelspec": {
   "display_name": "Python 3",
   "language": "python",
   "name": "python3"
  },
  "language_info": {
   "codemirror_mode": {
    "name": "ipython",
    "version": 3
   },
   "file_extension": ".py",
   "mimetype": "text/x-python",
   "name": "python",
   "nbconvert_exporter": "python",
   "pygments_lexer": "ipython3",
   "version": "3.7.6"
  },
  "latex_envs": {
   "LaTeX_envs_menu_present": true,
   "autoclose": false,
   "autocomplete": true,
   "bibliofile": "biblio.bib",
   "cite_by": "apalike",
   "current_citInitial": 1,
   "eqLabelWithNumbers": true,
   "eqNumInitial": 1,
   "hotkeys": {
    "equation": "Ctrl-E",
    "itemize": "Ctrl-I"
   },
   "labels_anchors": false,
   "latex_user_defs": false,
   "report_style_numbering": false,
   "user_envs_cfg": false
  },
  "nteract": {
   "version": "0.12.3"
  }
 },
 "nbformat": 4,
 "nbformat_minor": 2
}
